{
 "cells": [
  {
   "cell_type": "code",
   "execution_count": 1,
   "metadata": {},
   "outputs": [
    {
     "name": "stderr",
     "output_type": "stream",
     "text": [
      "Using TensorFlow backend.\n"
     ]
    }
   ],
   "source": [
    "%matplotlib inline\n",
    "\n",
    "import numpy as np\n",
    "import matplotlib.pyplot as plt\n",
    "from keras.datasets import mnist\n",
    "import keras"
   ]
  },
  {
   "cell_type": "code",
   "execution_count": 2,
   "metadata": {},
   "outputs": [],
   "source": [
    "(x_train, y_train), (x_test, y_test) = mnist.load_data()"
   ]
  },
  {
   "cell_type": "code",
   "execution_count": 3,
   "metadata": {},
   "outputs": [],
   "source": [
    "from keras.utils import np_utils"
   ]
  },
  {
   "cell_type": "code",
   "execution_count": 4,
   "metadata": {},
   "outputs": [],
   "source": [
    "x_train = x_train.reshape(60000, 784)\n",
    "x_test = x_test.reshape(10000, 784)"
   ]
  },
  {
   "cell_type": "code",
   "execution_count": 5,
   "metadata": {},
   "outputs": [],
   "source": [
    "y_train = np_utils.to_categorical(y_train, 10)\n",
    "y_test = np_utils.to_categorical(y_test, 10)"
   ]
  },
  {
   "cell_type": "code",
   "execution_count": 41,
   "metadata": {},
   "outputs": [],
   "source": [
    "from keras.models import Sequential\n",
    "from keras.layers import Dense, Activation\n",
    "from keras.optimizers import SGD, Adam"
   ]
  },
  {
   "cell_type": "markdown",
   "metadata": {},
   "source": [
    "### 老師的神經網路"
   ]
  },
  {
   "cell_type": "code",
   "execution_count": 69,
   "metadata": {},
   "outputs": [
    {
     "name": "stdout",
     "output_type": "stream",
     "text": [
      "Train on 60000 samples, validate on 10000 samples\n",
      "Epoch 1/20\n",
      "60000/60000 [==============================] - 3s 53us/step - loss: 0.0908 - acc: 0.1044 - val_loss: 0.0905 - val_acc: 0.1028\n",
      "Epoch 2/20\n",
      "60000/60000 [==============================] - 2s 32us/step - loss: 0.0903 - acc: 0.1044 - val_loss: 0.0901 - val_acc: 0.1028\n",
      "Epoch 3/20\n",
      "60000/60000 [==============================] - 2s 32us/step - loss: 0.0899 - acc: 0.1044 - val_loss: 0.0898 - val_acc: 0.1028\n",
      "Epoch 4/20\n",
      "60000/60000 [==============================] - 2s 35us/step - loss: 0.0896 - acc: 0.1197 - val_loss: 0.0896 - val_acc: 0.1978\n",
      "Epoch 5/20\n",
      "60000/60000 [==============================] - 2s 35us/step - loss: 0.0895 - acc: 0.2062 - val_loss: 0.0894 - val_acc: 0.2040\n",
      "Epoch 6/20\n",
      "60000/60000 [==============================] - 2s 38us/step - loss: 0.0893 - acc: 0.2040 - val_loss: 0.0893 - val_acc: 0.2014\n",
      "Epoch 7/20\n",
      "60000/60000 [==============================] - 2s 33us/step - loss: 0.0892 - acc: 0.2033 - val_loss: 0.0891 - val_acc: 0.2001\n",
      "Epoch 8/20\n",
      "60000/60000 [==============================] - 2s 33us/step - loss: 0.0891 - acc: 0.2377 - val_loss: 0.0890 - val_acc: 0.2673\n",
      "Epoch 9/20\n",
      "60000/60000 [==============================] - 2s 34us/step - loss: 0.0890 - acc: 0.2662 - val_loss: 0.0889 - val_acc: 0.2699\n",
      "Epoch 10/20\n",
      "60000/60000 [==============================] - 2s 33us/step - loss: 0.0888 - acc: 0.2695 - val_loss: 0.0888 - val_acc: 0.2726\n",
      "Epoch 11/20\n",
      "60000/60000 [==============================] - 2s 37us/step - loss: 0.0887 - acc: 0.2727 - val_loss: 0.0887 - val_acc: 0.2746\n",
      "Epoch 12/20\n",
      "60000/60000 [==============================] - 2s 33us/step - loss: 0.0886 - acc: 0.2751 - val_loss: 0.0886 - val_acc: 0.2770\n",
      "Epoch 13/20\n",
      "60000/60000 [==============================] - 2s 35us/step - loss: 0.0885 - acc: 0.2770 - val_loss: 0.0885 - val_acc: 0.2767\n",
      "Epoch 14/20\n",
      "60000/60000 [==============================] - 2s 37us/step - loss: 0.0884 - acc: 0.2771 - val_loss: 0.0884 - val_acc: 0.2771\n",
      "Epoch 15/20\n",
      "60000/60000 [==============================] - 2s 38us/step - loss: 0.0883 - acc: 0.2776 - val_loss: 0.0883 - val_acc: 0.2784\n",
      "Epoch 16/20\n",
      "60000/60000 [==============================] - 3s 44us/step - loss: 0.0882 - acc: 0.2790 - val_loss: 0.0881 - val_acc: 0.2780\n",
      "Epoch 17/20\n",
      "60000/60000 [==============================] - 2s 39us/step - loss: 0.0881 - acc: 0.2788 - val_loss: 0.0880 - val_acc: 0.2808\n",
      "Epoch 18/20\n",
      "60000/60000 [==============================] - 2s 40us/step - loss: 0.0880 - acc: 0.2807 - val_loss: 0.0879 - val_acc: 0.2782\n",
      "Epoch 19/20\n",
      "60000/60000 [==============================] - 3s 57us/step - loss: 0.0879 - acc: 0.2810 - val_loss: 0.0878 - val_acc: 0.2820\n",
      "Epoch 20/20\n",
      "60000/60000 [==============================] - 2s 41us/step - loss: 0.0877 - acc: 0.2826 - val_loss: 0.0877 - val_acc: 0.2826\n"
     ]
    },
    {
     "data": {
      "text/plain": [
       "<keras.callbacks.History at 0x1f4d0dbef98>"
      ]
     },
     "execution_count": 69,
     "metadata": {},
     "output_type": "execute_result"
    }
   ],
   "source": [
    "model = Sequential()\n",
    "model.add(Dense(4, input_dim=784))\n",
    "model.add(Activation('sigmoid'))\n",
    "model.add(Dense(2))\n",
    "model.add(Activation('sigmoid'))\n",
    "model.add(Dense(10))\n",
    "model.add(Activation('softmax'))\n",
    "model.compile(loss='mse',optimizer=SGD(lr=0.087) ,metrics=['accuracy'])\n",
    "model.fit(x_train, y_train, batch_size=100, epochs=20,verbose=1, \n",
    "          validation_data=(x_test, y_test))"
   ]
  },
  {
   "cell_type": "markdown",
   "metadata": {},
   "source": [
    "### 先試試改神經元個數"
   ]
  },
  {
   "cell_type": "code",
   "execution_count": 70,
   "metadata": {},
   "outputs": [
    {
     "name": "stdout",
     "output_type": "stream",
     "text": [
      "Train on 60000 samples, validate on 10000 samples\n",
      "Epoch 1/20\n",
      "60000/60000 [==============================] - 4s 71us/step - loss: 0.0906 - acc: 0.1542 - val_loss: 0.0888 - val_acc: 0.2367\n",
      "Epoch 2/20\n",
      "60000/60000 [==============================] - 3s 43us/step - loss: 0.0875 - acc: 0.3378 - val_loss: 0.0862 - val_acc: 0.4019\n",
      "Epoch 3/20\n",
      "60000/60000 [==============================] - 3s 52us/step - loss: 0.0852 - acc: 0.4009 - val_loss: 0.0841 - val_acc: 0.4047\n",
      "Epoch 4/20\n",
      "60000/60000 [==============================] - 3s 46us/step - loss: 0.0832 - acc: 0.4157 - val_loss: 0.0821 - val_acc: 0.4228\n",
      "Epoch 5/20\n",
      "60000/60000 [==============================] - 3s 45us/step - loss: 0.0810 - acc: 0.4272 - val_loss: 0.0798 - val_acc: 0.4358\n",
      "Epoch 6/20\n",
      "60000/60000 [==============================] - 3s 45us/step - loss: 0.0786 - acc: 0.4425 - val_loss: 0.0772 - val_acc: 0.4485\n",
      "Epoch 7/20\n",
      "60000/60000 [==============================] - 3s 42us/step - loss: 0.0759 - acc: 0.4531 - val_loss: 0.0744 - val_acc: 0.4624\n",
      "Epoch 8/20\n",
      "60000/60000 [==============================] - 3s 45us/step - loss: 0.0730 - acc: 0.4693 - val_loss: 0.0715 - val_acc: 0.4848\n",
      "Epoch 9/20\n",
      "60000/60000 [==============================] - 3s 43us/step - loss: 0.0701 - acc: 0.4901 - val_loss: 0.0686 - val_acc: 0.5082\n",
      "Epoch 10/20\n",
      "60000/60000 [==============================] - 3s 47us/step - loss: 0.0673 - acc: 0.5215 - val_loss: 0.0658 - val_acc: 0.5427\n",
      "Epoch 11/20\n",
      "60000/60000 [==============================] - 3s 45us/step - loss: 0.0645 - acc: 0.5546 - val_loss: 0.0630 - val_acc: 0.5763\n",
      "Epoch 12/20\n",
      "60000/60000 [==============================] - 3s 49us/step - loss: 0.0619 - acc: 0.5870 - val_loss: 0.0604 - val_acc: 0.6064\n",
      "Epoch 13/20\n",
      "60000/60000 [==============================] - 3s 51us/step - loss: 0.0594 - acc: 0.6123 - val_loss: 0.0579 - val_acc: 0.6381\n",
      "Epoch 14/20\n",
      "60000/60000 [==============================] - 3s 52us/step - loss: 0.0570 - acc: 0.6388 - val_loss: 0.0556 - val_acc: 0.6542\n",
      "Epoch 15/20\n",
      "60000/60000 [==============================] - 3s 47us/step - loss: 0.0548 - acc: 0.6580 - val_loss: 0.0535 - val_acc: 0.6785\n",
      "Epoch 16/20\n",
      "60000/60000 [==============================] - 3s 48us/step - loss: 0.0527 - acc: 0.6764 - val_loss: 0.0514 - val_acc: 0.6942\n",
      "Epoch 17/20\n",
      "60000/60000 [==============================] - 3s 48us/step - loss: 0.0508 - acc: 0.6910 - val_loss: 0.0496 - val_acc: 0.7028\n",
      "Epoch 18/20\n",
      "60000/60000 [==============================] - 3s 49us/step - loss: 0.0489 - acc: 0.7003 - val_loss: 0.0479 - val_acc: 0.7106\n",
      "Epoch 19/20\n",
      "60000/60000 [==============================] - 3s 55us/step - loss: 0.0472 - acc: 0.7060 - val_loss: 0.0460 - val_acc: 0.7124\n",
      "Epoch 20/20\n",
      "60000/60000 [==============================] - 3s 53us/step - loss: 0.0455 - acc: 0.7123 - val_loss: 0.0443 - val_acc: 0.7289\n"
     ]
    },
    {
     "data": {
      "text/plain": [
       "<keras.callbacks.History at 0x1f4dca2f908>"
      ]
     },
     "execution_count": 70,
     "metadata": {},
     "output_type": "execute_result"
    }
   ],
   "source": [
    "model = Sequential()\n",
    "model.add(Dense(30, input_dim=784))\n",
    "model.add(Activation('sigmoid'))\n",
    "model.add(Dense(20))\n",
    "model.add(Activation('sigmoid'))\n",
    "model.add(Dense(10))\n",
    "model.add(Activation('softmax'))\n",
    "model.compile(loss='mse',optimizer=SGD(lr=0.087) ,metrics=['accuracy'])\n",
    "model.fit(x_train, y_train, batch_size=100, epochs=20,verbose=1, \n",
    "          validation_data=(x_test, y_test))"
   ]
  },
  {
   "cell_type": "code",
   "execution_count": 71,
   "metadata": {},
   "outputs": [
    {
     "name": "stdout",
     "output_type": "stream",
     "text": [
      "Train on 60000 samples, validate on 10000 samples\n",
      "Epoch 1/20\n",
      "60000/60000 [==============================] - 6s 95us/step - loss: 0.0897 - acc: 0.2046 - val_loss: 0.0869 - val_acc: 0.3521\n",
      "Epoch 2/20\n",
      "60000/60000 [==============================] - 4s 69us/step - loss: 0.0844 - acc: 0.5051 - val_loss: 0.0814 - val_acc: 0.5767\n",
      "Epoch 3/20\n",
      "60000/60000 [==============================] - 4s 64us/step - loss: 0.0784 - acc: 0.5521 - val_loss: 0.0748 - val_acc: 0.5632\n",
      "Epoch 4/20\n",
      "60000/60000 [==============================] - 4s 64us/step - loss: 0.0715 - acc: 0.5702 - val_loss: 0.0677 - val_acc: 0.5963\n",
      "Epoch 5/20\n",
      "60000/60000 [==============================] - 4s 69us/step - loss: 0.0644 - acc: 0.6226 - val_loss: 0.0606 - val_acc: 0.6624\n",
      "Epoch 6/20\n",
      "60000/60000 [==============================] - 4s 65us/step - loss: 0.0575 - acc: 0.6908 - val_loss: 0.0537 - val_acc: 0.7367\n",
      "Epoch 7/20\n",
      "60000/60000 [==============================] - 4s 68us/step - loss: 0.0509 - acc: 0.7580 - val_loss: 0.0472 - val_acc: 0.7956\n",
      "Epoch 8/20\n",
      "60000/60000 [==============================] - 4s 64us/step - loss: 0.0446 - acc: 0.8083 - val_loss: 0.0412 - val_acc: 0.8384\n",
      "Epoch 9/20\n",
      "60000/60000 [==============================] - 4s 70us/step - loss: 0.0389 - acc: 0.8408 - val_loss: 0.0358 - val_acc: 0.8620\n",
      "Epoch 10/20\n",
      "60000/60000 [==============================] - 4s 67us/step - loss: 0.0340 - acc: 0.8593 - val_loss: 0.0313 - val_acc: 0.8711\n",
      "Epoch 11/20\n",
      "60000/60000 [==============================] - 4s 63us/step - loss: 0.0299 - acc: 0.8702 - val_loss: 0.0275 - val_acc: 0.8805\n",
      "Epoch 12/20\n",
      "60000/60000 [==============================] - 4s 73us/step - loss: 0.0267 - acc: 0.8781 - val_loss: 0.0247 - val_acc: 0.8864\n",
      "Epoch 13/20\n",
      "60000/60000 [==============================] - 4s 71us/step - loss: 0.0241 - acc: 0.8845 - val_loss: 0.0226 - val_acc: 0.8920\n",
      "Epoch 14/20\n",
      "60000/60000 [==============================] - 4s 68us/step - loss: 0.0222 - acc: 0.8898 - val_loss: 0.0209 - val_acc: 0.8956\n",
      "Epoch 15/20\n",
      "60000/60000 [==============================] - 4s 73us/step - loss: 0.0206 - acc: 0.8949 - val_loss: 0.0196 - val_acc: 0.8998\n",
      "Epoch 16/20\n",
      "60000/60000 [==============================] - 6s 99us/step - loss: 0.0194 - acc: 0.8980 - val_loss: 0.0185 - val_acc: 0.9007\n",
      "Epoch 17/20\n",
      "60000/60000 [==============================] - 5s 80us/step - loss: 0.0183 - acc: 0.9018 - val_loss: 0.0177 - val_acc: 0.9042\n",
      "Epoch 18/20\n",
      "60000/60000 [==============================] - 4s 64us/step - loss: 0.0175 - acc: 0.9042 - val_loss: 0.0169 - val_acc: 0.9066\n",
      "Epoch 19/20\n",
      "60000/60000 [==============================] - 4s 63us/step - loss: 0.0167 - acc: 0.9074 - val_loss: 0.0162 - val_acc: 0.9090\n",
      "Epoch 20/20\n",
      "60000/60000 [==============================] - 5s 78us/step - loss: 0.0160 - acc: 0.9108 - val_loss: 0.0157 - val_acc: 0.9115\n"
     ]
    },
    {
     "data": {
      "text/plain": [
       "<keras.callbacks.History at 0x1f4ddce1e48>"
      ]
     },
     "execution_count": 71,
     "metadata": {},
     "output_type": "execute_result"
    }
   ],
   "source": [
    "model = Sequential()\n",
    "model.add(Dense(100, input_dim=784))\n",
    "model.add(Activation('sigmoid'))\n",
    "model.add(Dense(50))\n",
    "model.add(Activation('sigmoid'))\n",
    "model.add(Dense(10))\n",
    "model.add(Activation('softmax'))\n",
    "model.compile(loss='mse',optimizer=SGD(lr=0.087) ,metrics=['accuracy'])\n",
    "model.fit(x_train, y_train, batch_size=100, epochs=20,verbose=1, \n",
    "          validation_data=(x_test, y_test))"
   ]
  },
  {
   "cell_type": "markdown",
   "metadata": {},
   "source": [
    "#### 把隱藏層神經元個數變多，20次以內準確率能達到90%\n",
    "\n",
    "發現若是隱藏層神經元個數從少到多輸出的預測結果較差。而從多到少的預測效果較好"
   ]
  },
  {
   "cell_type": "markdown",
   "metadata": {},
   "source": [
    "### 換一下激發函數"
   ]
  },
  {
   "cell_type": "code",
   "execution_count": 72,
   "metadata": {},
   "outputs": [
    {
     "name": "stdout",
     "output_type": "stream",
     "text": [
      "Train on 60000 samples, validate on 10000 samples\n",
      "Epoch 1/20\n",
      "60000/60000 [==============================] - 5s 75us/step - loss: 0.0853 - acc: 0.1523 - val_loss: 0.0751 - val_acc: 0.2826\n",
      "Epoch 2/20\n",
      "60000/60000 [==============================] - 3s 46us/step - loss: 0.0739 - acc: 0.2921 - val_loss: 0.0731 - val_acc: 0.2975\n",
      "Epoch 3/20\n",
      "60000/60000 [==============================] - 3s 48us/step - loss: 0.0729 - acc: 0.2991 - val_loss: 0.0726 - val_acc: 0.3007\n",
      "Epoch 4/20\n",
      "60000/60000 [==============================] - 4s 60us/step - loss: 0.0725 - acc: 0.3013 - val_loss: 0.0722 - val_acc: 0.3018\n",
      "Epoch 5/20\n",
      "60000/60000 [==============================] - 3s 48us/step - loss: 0.0722 - acc: 0.3021 - val_loss: 0.0721 - val_acc: 0.3024\n",
      "Epoch 6/20\n",
      "60000/60000 [==============================] - 3s 55us/step - loss: 0.0720 - acc: 0.3024 - val_loss: 0.0718 - val_acc: 0.3034\n",
      "Epoch 7/20\n",
      "60000/60000 [==============================] - 3s 49us/step - loss: 0.0718 - acc: 0.3035 - val_loss: 0.0717 - val_acc: 0.3015\n",
      "Epoch 8/20\n",
      "60000/60000 [==============================] - 3s 49us/step - loss: 0.0716 - acc: 0.3042 - val_loss: 0.0717 - val_acc: 0.3046\n",
      "Epoch 9/20\n",
      "60000/60000 [==============================] - 3s 50us/step - loss: 0.0715 - acc: 0.3046 - val_loss: 0.0714 - val_acc: 0.3039\n",
      "Epoch 10/20\n",
      "60000/60000 [==============================] - 3s 51us/step - loss: 0.0713 - acc: 0.3052 - val_loss: 0.0714 - val_acc: 0.3066\n",
      "Epoch 11/20\n",
      "60000/60000 [==============================] - 3s 50us/step - loss: 0.0713 - acc: 0.3056 - val_loss: 0.0713 - val_acc: 0.3038\n",
      "Epoch 12/20\n",
      "60000/60000 [==============================] - 3s 51us/step - loss: 0.0712 - acc: 0.3062 - val_loss: 0.0712 - val_acc: 0.3041\n",
      "Epoch 13/20\n",
      "60000/60000 [==============================] - 3s 49us/step - loss: 0.0711 - acc: 0.3063 - val_loss: 0.0712 - val_acc: 0.3060\n",
      "Epoch 14/20\n",
      "60000/60000 [==============================] - 3s 53us/step - loss: 0.0710 - acc: 0.3073 - val_loss: 0.0711 - val_acc: 0.3052\n",
      "Epoch 15/20\n",
      "60000/60000 [==============================] - 4s 60us/step - loss: 0.0709 - acc: 0.3139 - val_loss: 0.0710 - val_acc: 0.3101\n",
      "Epoch 16/20\n",
      "60000/60000 [==============================] - 3s 49us/step - loss: 0.0705 - acc: 0.3301 - val_loss: 0.0695 - val_acc: 0.3440\n",
      "Epoch 17/20\n",
      "60000/60000 [==============================] - 3s 52us/step - loss: 0.0704 - acc: 0.3313 - val_loss: 0.0719 - val_acc: 0.3220\n",
      "Epoch 18/20\n",
      "60000/60000 [==============================] - 3s 52us/step - loss: 0.0695 - acc: 0.3468 - val_loss: 0.0705 - val_acc: 0.3197\n",
      "Epoch 19/20\n",
      "60000/60000 [==============================] - 3s 53us/step - loss: 0.0691 - acc: 0.3544 - val_loss: 0.0691 - val_acc: 0.3663\n",
      "Epoch 20/20\n",
      "60000/60000 [==============================] - 3s 52us/step - loss: 0.0686 - acc: 0.3601 - val_loss: 0.0685 - val_acc: 0.3570\n"
     ]
    },
    {
     "data": {
      "text/plain": [
       "<keras.callbacks.History at 0x1f4ddf7acf8>"
      ]
     },
     "execution_count": 72,
     "metadata": {},
     "output_type": "execute_result"
    }
   ],
   "source": [
    "model = Sequential()\n",
    "model.add(Dense(4, input_dim=784))\n",
    "model.add(Activation('relu'))\n",
    "model.add(Dense(2))\n",
    "model.add(Activation('relu'))\n",
    "model.add(Dense(10))\n",
    "model.add(Activation('softmax'))\n",
    "model.compile(loss='mse',optimizer=SGD(lr=0.087) ,metrics=['accuracy'])\n",
    "model.fit(x_train, y_train, batch_size=100, epochs=20,verbose=1, \n",
    "          validation_data=(x_test, y_test))"
   ]
  },
  {
   "cell_type": "code",
   "execution_count": 84,
   "metadata": {},
   "outputs": [
    {
     "name": "stdout",
     "output_type": "stream",
     "text": [
      "Train on 60000 samples, validate on 10000 samples\n",
      "Epoch 1/20\n",
      "60000/60000 [==============================] - 5s 87us/step - loss: 0.0905 - acc: 0.1658 - val_loss: 0.0850 - val_acc: 0.2313\n",
      "Epoch 2/20\n",
      "60000/60000 [==============================] - 4s 64us/step - loss: 0.0812 - acc: 0.2711 - val_loss: 0.0791 - val_acc: 0.2793\n",
      "Epoch 3/20\n",
      "60000/60000 [==============================] - 3s 53us/step - loss: 0.0785 - acc: 0.2799 - val_loss: 0.0773 - val_acc: 0.2879\n",
      "Epoch 4/20\n",
      "60000/60000 [==============================] - 3s 52us/step - loss: 0.0775 - acc: 0.2810 - val_loss: 0.0767 - val_acc: 0.2877\n",
      "Epoch 5/20\n",
      "60000/60000 [==============================] - 3s 50us/step - loss: 0.0767 - acc: 0.2820 - val_loss: 0.0760 - val_acc: 0.2893\n",
      "Epoch 6/20\n",
      "60000/60000 [==============================] - 3s 48us/step - loss: 0.0762 - acc: 0.2807 - val_loss: 0.0755 - val_acc: 0.2881\n",
      "Epoch 7/20\n",
      "60000/60000 [==============================] - 3s 50us/step - loss: 0.0759 - acc: 0.2837 - val_loss: 0.0753 - val_acc: 0.2939\n",
      "Epoch 8/20\n",
      "60000/60000 [==============================] - 3s 53us/step - loss: 0.0757 - acc: 0.2902 - val_loss: 0.0751 - val_acc: 0.3038\n",
      "Epoch 9/20\n",
      "60000/60000 [==============================] - 3s 50us/step - loss: 0.0755 - acc: 0.2910 - val_loss: 0.0756 - val_acc: 0.2872\n",
      "Epoch 10/20\n",
      "60000/60000 [==============================] - 3s 51us/step - loss: 0.0754 - acc: 0.2909 - val_loss: 0.0751 - val_acc: 0.2949\n",
      "Epoch 11/20\n",
      "60000/60000 [==============================] - 3s 56us/step - loss: 0.0752 - acc: 0.2920 - val_loss: 0.0748 - val_acc: 0.2998\n",
      "Epoch 12/20\n",
      "60000/60000 [==============================] - 3s 55us/step - loss: 0.0751 - acc: 0.2932 - val_loss: 0.0748 - val_acc: 0.2968\n",
      "Epoch 13/20\n",
      "60000/60000 [==============================] - 3s 48us/step - loss: 0.0751 - acc: 0.2891 - val_loss: 0.0748 - val_acc: 0.2989\n",
      "Epoch 14/20\n",
      "60000/60000 [==============================] - 3s 51us/step - loss: 0.0749 - acc: 0.2906 - val_loss: 0.0746 - val_acc: 0.3009\n",
      "Epoch 15/20\n",
      "60000/60000 [==============================] - 3s 52us/step - loss: 0.0749 - acc: 0.2905 - val_loss: 0.0746 - val_acc: 0.3012\n",
      "Epoch 16/20\n",
      "60000/60000 [==============================] - 3s 51us/step - loss: 0.0749 - acc: 0.2950 - val_loss: 0.0745 - val_acc: 0.2960\n",
      "Epoch 17/20\n",
      "60000/60000 [==============================] - 3s 48us/step - loss: 0.0748 - acc: 0.2941 - val_loss: 0.0744 - val_acc: 0.2982\n",
      "Epoch 18/20\n",
      "60000/60000 [==============================] - 3s 49us/step - loss: 0.0747 - acc: 0.2929 - val_loss: 0.0744 - val_acc: 0.2962\n",
      "Epoch 19/20\n",
      "60000/60000 [==============================] - 3s 50us/step - loss: 0.0747 - acc: 0.2887 - val_loss: 0.0746 - val_acc: 0.2915\n",
      "Epoch 20/20\n",
      "60000/60000 [==============================] - 3s 53us/step - loss: 0.0746 - acc: 0.2901 - val_loss: 0.0742 - val_acc: 0.2958\n"
     ]
    },
    {
     "data": {
      "text/plain": [
       "<keras.callbacks.History at 0x1f4e4d60668>"
      ]
     },
     "execution_count": 84,
     "metadata": {},
     "output_type": "execute_result"
    }
   ],
   "source": [
    "model = Sequential()\n",
    "model.add(Dense(4, input_dim=784))\n",
    "model.add(Activation('selu'))\n",
    "model.add(Dense(2))\n",
    "model.add(Activation('selu'))\n",
    "model.add(Dense(10))\n",
    "model.add(Activation('softmax'))\n",
    "model.compile(loss='mse',optimizer=SGD(lr=0.087) ,metrics=['accuracy'])\n",
    "model.fit(x_train, y_train, batch_size=100, epochs=20,verbose=1, \n",
    "          validation_data=(x_test, y_test))"
   ]
  },
  {
   "cell_type": "markdown",
   "metadata": {},
   "source": [
    "#### sigmoid+relu 、relu+sigmoid、relu+relu學起來效果都不太好\n",
    "### 試試看改learning rate\n",
    "當lr=1時，最後可以學到50%左右的正確率，但還是沒有達標"
   ]
  },
  {
   "cell_type": "code",
   "execution_count": 75,
   "metadata": {},
   "outputs": [
    {
     "name": "stdout",
     "output_type": "stream",
     "text": [
      "Train on 60000 samples, validate on 10000 samples\n",
      "Epoch 1/20\n",
      "60000/60000 [==============================] - 3s 57us/step - loss: 0.0891 - acc: 0.1476 - val_loss: 0.0882 - val_acc: 0.1745\n",
      "Epoch 2/20\n",
      "60000/60000 [==============================] - 2s 35us/step - loss: 0.0873 - acc: 0.1760 - val_loss: 0.0863 - val_acc: 0.2021\n",
      "Epoch 3/20\n",
      "60000/60000 [==============================] - 2s 37us/step - loss: 0.0856 - acc: 0.1967 - val_loss: 0.0847 - val_acc: 0.1978\n",
      "Epoch 4/20\n",
      "60000/60000 [==============================] - 2s 37us/step - loss: 0.0841 - acc: 0.1963 - val_loss: 0.0832 - val_acc: 0.2146\n",
      "Epoch 5/20\n",
      "60000/60000 [==============================] - 2s 41us/step - loss: 0.0823 - acc: 0.2090 - val_loss: 0.0811 - val_acc: 0.2972\n",
      "Epoch 6/20\n",
      "60000/60000 [==============================] - 2s 40us/step - loss: 0.0800 - acc: 0.3013 - val_loss: 0.0788 - val_acc: 0.2974\n",
      "Epoch 7/20\n",
      "60000/60000 [==============================] - 2s 35us/step - loss: 0.0779 - acc: 0.3042 - val_loss: 0.0768 - val_acc: 0.2990\n",
      "Epoch 8/20\n",
      "60000/60000 [==============================] - 2s 35us/step - loss: 0.0763 - acc: 0.3038 - val_loss: 0.0758 - val_acc: 0.3021\n",
      "Epoch 9/20\n",
      "60000/60000 [==============================] - 2s 35us/step - loss: 0.0754 - acc: 0.3073 - val_loss: 0.0748 - val_acc: 0.3044\n",
      "Epoch 10/20\n",
      "60000/60000 [==============================] - 2s 36us/step - loss: 0.0748 - acc: 0.3073 - val_loss: 0.0744 - val_acc: 0.3021\n",
      "Epoch 11/20\n",
      "60000/60000 [==============================] - 3s 48us/step - loss: 0.0745 - acc: 0.3073 - val_loss: 0.0740 - val_acc: 0.3054\n",
      "Epoch 12/20\n",
      "60000/60000 [==============================] - 3s 55us/step - loss: 0.0741 - acc: 0.3083 - val_loss: 0.0738 - val_acc: 0.3028\n",
      "Epoch 13/20\n",
      "60000/60000 [==============================] - 3s 52us/step - loss: 0.0739 - acc: 0.3069 - val_loss: 0.0735 - val_acc: 0.3053\n",
      "Epoch 14/20\n",
      "60000/60000 [==============================] - 2s 39us/step - loss: 0.0737 - acc: 0.3073 - val_loss: 0.0734 - val_acc: 0.3041\n",
      "Epoch 15/20\n",
      "60000/60000 [==============================] - 2s 37us/step - loss: 0.0735 - acc: 0.3079 - val_loss: 0.0733 - val_acc: 0.3049\n",
      "Epoch 16/20\n",
      "60000/60000 [==============================] - 2s 35us/step - loss: 0.0733 - acc: 0.3068 - val_loss: 0.0731 - val_acc: 0.3044\n",
      "Epoch 17/20\n",
      "60000/60000 [==============================] - 5s 76us/step - loss: 0.0731 - acc: 0.3072 - val_loss: 0.0730 - val_acc: 0.3005\n",
      "Epoch 18/20\n",
      "60000/60000 [==============================] - 3s 42us/step - loss: 0.0728 - acc: 0.3058 - val_loss: 0.0724 - val_acc: 0.2995\n",
      "Epoch 19/20\n",
      "60000/60000 [==============================] - 2s 37us/step - loss: 0.0723 - acc: 0.3051 - val_loss: 0.0720 - val_acc: 0.3014\n",
      "Epoch 20/20\n",
      "60000/60000 [==============================] - 3s 43us/step - loss: 0.0719 - acc: 0.3051 - val_loss: 0.0716 - val_acc: 0.3018\n"
     ]
    },
    {
     "data": {
      "text/plain": [
       "<keras.callbacks.History at 0x1f4df745da0>"
      ]
     },
     "execution_count": 75,
     "metadata": {},
     "output_type": "execute_result"
    }
   ],
   "source": [
    "model = Sequential()\n",
    "model.add(Dense(4, input_dim=784))\n",
    "model.add(Activation('sigmoid'))\n",
    "model.add(Dense(2))\n",
    "model.add(Activation('relu'))\n",
    "model.add(Dense(10))\n",
    "model.add(Activation('softmax'))\n",
    "model.compile(loss='mse',optimizer=SGD(lr=0.1) ,metrics=['accuracy'])\n",
    "model.fit(x_train, y_train, batch_size=100, epochs=20,verbose=1, \n",
    "          validation_data=(x_test, y_test))"
   ]
  },
  {
   "cell_type": "code",
   "execution_count": 83,
   "metadata": {
    "scrolled": false
   },
   "outputs": [
    {
     "name": "stdout",
     "output_type": "stream",
     "text": [
      "Train on 60000 samples, validate on 10000 samples\n",
      "Epoch 1/20\n",
      "60000/60000 [==============================] - 7s 112us/step - loss: 0.0839 - acc: 0.1768 - val_loss: 0.0806 - val_acc: 0.2089\n",
      "Epoch 2/20\n",
      "60000/60000 [==============================] - 3s 55us/step - loss: 0.0807 - acc: 0.2695 - val_loss: 0.0794 - val_acc: 0.2877\n",
      "Epoch 3/20\n",
      "60000/60000 [==============================] - 3s 56us/step - loss: 0.0784 - acc: 0.2807 - val_loss: 0.0768 - val_acc: 0.2896\n",
      "Epoch 4/20\n",
      "60000/60000 [==============================] - 3s 50us/step - loss: 0.0761 - acc: 0.2934 - val_loss: 0.0752 - val_acc: 0.2968\n",
      "Epoch 5/20\n",
      "60000/60000 [==============================] - 3s 45us/step - loss: 0.0753 - acc: 0.2921 - val_loss: 0.0750 - val_acc: 0.2865\n",
      "Epoch 6/20\n",
      "60000/60000 [==============================] - 3s 52us/step - loss: 0.0747 - acc: 0.2989 - val_loss: 0.0735 - val_acc: 0.3006\n",
      "Epoch 7/20\n",
      "60000/60000 [==============================] - 3s 55us/step - loss: 0.0739 - acc: 0.3186 - val_loss: 0.0733 - val_acc: 0.3107\n",
      "Epoch 8/20\n",
      "60000/60000 [==============================] - 4s 61us/step - loss: 0.0727 - acc: 0.3684 - val_loss: 0.0707 - val_acc: 0.3942\n",
      "Epoch 9/20\n",
      "60000/60000 [==============================] - 3s 44us/step - loss: 0.0691 - acc: 0.4191 - val_loss: 0.0676 - val_acc: 0.4044\n",
      "Epoch 10/20\n",
      "60000/60000 [==============================] - 3s 54us/step - loss: 0.0673 - acc: 0.4273 - val_loss: 0.0684 - val_acc: 0.4303\n",
      "Epoch 11/20\n",
      "60000/60000 [==============================] - 3s 50us/step - loss: 0.0664 - acc: 0.4372 - val_loss: 0.0650 - val_acc: 0.4294\n",
      "Epoch 12/20\n",
      "60000/60000 [==============================] - 3s 52us/step - loss: 0.0653 - acc: 0.4438 - val_loss: 0.0655 - val_acc: 0.4437\n",
      "Epoch 13/20\n",
      "60000/60000 [==============================] - 3s 48us/step - loss: 0.0653 - acc: 0.4468 - val_loss: 0.0640 - val_acc: 0.4401\n",
      "Epoch 14/20\n",
      "60000/60000 [==============================] - 3s 57us/step - loss: 0.0650 - acc: 0.4438 - val_loss: 0.0633 - val_acc: 0.4624\n",
      "Epoch 15/20\n",
      "60000/60000 [==============================] - 3s 53us/step - loss: 0.0632 - acc: 0.4506 - val_loss: 0.0622 - val_acc: 0.4573\n",
      "Epoch 16/20\n",
      "60000/60000 [==============================] - 3s 52us/step - loss: 0.0616 - acc: 0.4860 - val_loss: 0.0636 - val_acc: 0.4502\n",
      "Epoch 17/20\n",
      "60000/60000 [==============================] - 3s 56us/step - loss: 0.0617 - acc: 0.5061 - val_loss: 0.0627 - val_acc: 0.5129\n",
      "Epoch 18/20\n",
      "60000/60000 [==============================] - 3s 52us/step - loss: 0.0595 - acc: 0.5142 - val_loss: 0.0590 - val_acc: 0.5039\n",
      "Epoch 19/20\n",
      "60000/60000 [==============================] - 3s 48us/step - loss: 0.0595 - acc: 0.5167 - val_loss: 0.0588 - val_acc: 0.5412\n",
      "Epoch 20/20\n",
      "60000/60000 [==============================] - 4s 62us/step - loss: 0.0583 - acc: 0.5106 - val_loss: 0.0562 - val_acc: 0.5351\n"
     ]
    },
    {
     "data": {
      "text/plain": [
       "<keras.callbacks.History at 0x1f4e4ae9a20>"
      ]
     },
     "execution_count": 83,
     "metadata": {},
     "output_type": "execute_result"
    }
   ],
   "source": [
    "model = Sequential()\n",
    "model.add(Dense(4, input_dim=784))\n",
    "model.add(Activation('sigmoid'))\n",
    "model.add(Dense(2))\n",
    "model.add(Activation('relu'))\n",
    "model.add(Dense(10))\n",
    "model.add(Activation('softmax'))\n",
    "model.compile(loss='mse',optimizer=SGD(lr=1) ,metrics=['accuracy'])\n",
    "model.fit(x_train, y_train, batch_size=100, epochs=20,verbose=1, \n",
    "          validation_data=(x_test, y_test))"
   ]
  },
  {
   "cell_type": "code",
   "execution_count": 90,
   "metadata": {},
   "outputs": [
    {
     "name": "stdout",
     "output_type": "stream",
     "text": [
      "Train on 60000 samples, validate on 10000 samples\n",
      "Epoch 1/20\n",
      "60000/60000 [==============================] - 5s 88us/step - loss: 0.0928 - acc: 0.3566 - val_loss: 0.0731 - val_acc: 0.4200\n",
      "Epoch 2/20\n",
      "60000/60000 [==============================] - 3s 52us/step - loss: 0.0584 - acc: 0.5859 - val_loss: 0.0497 - val_acc: 0.6520\n",
      "Epoch 3/20\n",
      "60000/60000 [==============================] - 3s 52us/step - loss: 0.0421 - acc: 0.6948 - val_loss: 0.0356 - val_acc: 0.7502\n",
      "Epoch 4/20\n",
      "60000/60000 [==============================] - 3s 55us/step - loss: 0.0303 - acc: 0.8079 - val_loss: 0.0262 - val_acc: 0.8399\n",
      "Epoch 5/20\n",
      "60000/60000 [==============================] - 3s 51us/step - loss: 0.0266 - acc: 0.8353 - val_loss: 0.0243 - val_acc: 0.8522\n",
      "Epoch 6/20\n",
      "60000/60000 [==============================] - 3s 51us/step - loss: 0.0234 - acc: 0.8594 - val_loss: 0.0230 - val_acc: 0.8655\n",
      "Epoch 7/20\n",
      "60000/60000 [==============================] - 3s 49us/step - loss: 0.0206 - acc: 0.8787 - val_loss: 0.0191 - val_acc: 0.8895\n",
      "Epoch 8/20\n",
      "60000/60000 [==============================] - 3s 50us/step - loss: 0.0187 - acc: 0.8908 - val_loss: 0.0174 - val_acc: 0.8996\n",
      "Epoch 9/20\n",
      "60000/60000 [==============================] - 4s 59us/step - loss: 0.0172 - acc: 0.8998 - val_loss: 0.0169 - val_acc: 0.9020\n",
      "Epoch 10/20\n",
      "60000/60000 [==============================] - 3s 49us/step - loss: 0.0167 - acc: 0.9026 - val_loss: 0.0161 - val_acc: 0.9051\n",
      "Epoch 11/20\n",
      "60000/60000 [==============================] - 3s 55us/step - loss: 0.0162 - acc: 0.9054 - val_loss: 0.0153 - val_acc: 0.9108\n",
      "Epoch 12/20\n",
      "60000/60000 [==============================] - 3s 51us/step - loss: 0.0153 - acc: 0.9122 - val_loss: 0.0144 - val_acc: 0.9185\n",
      "Epoch 13/20\n",
      "60000/60000 [==============================] - 3s 49us/step - loss: 0.0156 - acc: 0.9113 - val_loss: 0.0152 - val_acc: 0.9147\n",
      "Epoch 14/20\n",
      "60000/60000 [==============================] - 3s 56us/step - loss: 0.0145 - acc: 0.9179 - val_loss: 0.0142 - val_acc: 0.9188\n",
      "Epoch 15/20\n",
      "60000/60000 [==============================] - 4s 59us/step - loss: 0.0142 - acc: 0.9196 - val_loss: 0.0139 - val_acc: 0.9209\n",
      "Epoch 16/20\n",
      "60000/60000 [==============================] - 3s 47us/step - loss: 0.0144 - acc: 0.9188 - val_loss: 0.0151 - val_acc: 0.9151\n",
      "Epoch 17/20\n",
      "60000/60000 [==============================] - 3s 50us/step - loss: 0.0146 - acc: 0.9186 - val_loss: 0.0148 - val_acc: 0.9169\n",
      "Epoch 18/20\n",
      "60000/60000 [==============================] - 3s 57us/step - loss: 0.0133 - acc: 0.9245 - val_loss: 0.0140 - val_acc: 0.9221\n",
      "Epoch 19/20\n",
      "60000/60000 [==============================] - 3s 50us/step - loss: 0.0139 - acc: 0.9216 - val_loss: 0.0145 - val_acc: 0.9170\n",
      "Epoch 20/20\n",
      "60000/60000 [==============================] - 3s 57us/step - loss: 0.0130 - acc: 0.9273 - val_loss: 0.0133 - val_acc: 0.9263\n"
     ]
    },
    {
     "data": {
      "text/plain": [
       "<keras.callbacks.History at 0x1f4e915bfd0>"
      ]
     },
     "execution_count": 90,
     "metadata": {},
     "output_type": "execute_result"
    }
   ],
   "source": [
    "model = Sequential()\n",
    "model.add(Dense(20, input_dim=784))\n",
    "model.add(Activation('relu'))\n",
    "model.add(Dense(10))\n",
    "model.add(Activation('relu'))\n",
    "model.add(Dense(10))\n",
    "model.add(Activation('softmax'))\n",
    "model.compile(loss='mse',optimizer=Adam(lr=0.001) ,metrics=['accuracy'])\n",
    "model.fit(x_train, y_train, batch_size=100, epochs=20,verbose=1, \n",
    "          validation_data=(x_test, y_test))"
   ]
  },
  {
   "cell_type": "code",
   "execution_count": 54,
   "metadata": {
    "scrolled": true
   },
   "outputs": [
    {
     "name": "stdout",
     "output_type": "stream",
     "text": [
      "Train on 60000 samples, validate on 10000 samples\n",
      "Epoch 1/20\n",
      "60000/60000 [==============================] - 3s 57us/step - loss: 0.0478 - acc: 0.6699 - val_loss: 0.0271 - val_acc: 0.8267\n",
      "Epoch 2/20\n",
      "60000/60000 [==============================] - ETA: 0s - loss: 0.0253 - acc: 0.831 - 2s 37us/step - loss: 0.0253 - acc: 0.8309 - val_loss: 0.0250 - val_acc: 0.8327\n",
      "Epoch 3/20\n",
      "60000/60000 [==============================] - 2s 37us/step - loss: 0.0224 - acc: 0.8510 - val_loss: 0.0205 - val_acc: 0.8643\n",
      "Epoch 4/20\n",
      "60000/60000 [==============================] - 2s 37us/step - loss: 0.0205 - acc: 0.8623 - val_loss: 0.0193 - val_acc: 0.8715\n",
      "Epoch 5/20\n",
      "60000/60000 [==============================] - 3s 44us/step - loss: 0.0204 - acc: 0.8642 - val_loss: 0.0199 - val_acc: 0.8652\n",
      "Epoch 6/20\n",
      "60000/60000 [==============================] - 2s 39us/step - loss: 0.0193 - acc: 0.8714 - val_loss: 0.0184 - val_acc: 0.8787\n",
      "Epoch 7/20\n",
      "60000/60000 [==============================] - 2s 37us/step - loss: 0.0187 - acc: 0.8762 - val_loss: 0.0164 - val_acc: 0.8913\n",
      "Epoch 8/20\n",
      "60000/60000 [==============================] - 2s 40us/step - loss: 0.0175 - acc: 0.8840 - val_loss: 0.0165 - val_acc: 0.8893\n",
      "Epoch 9/20\n",
      "60000/60000 [==============================] - 2s 38us/step - loss: 0.0168 - acc: 0.8875 - val_loss: 0.0165 - val_acc: 0.8923\n",
      "Epoch 10/20\n",
      "60000/60000 [==============================] - 2s 36us/step - loss: 0.0169 - acc: 0.8882 - val_loss: 0.0166 - val_acc: 0.8884\n",
      "Epoch 11/20\n",
      "60000/60000 [==============================] - 2s 40us/step - loss: 0.0167 - acc: 0.8892 - val_loss: 0.0156 - val_acc: 0.8965\n",
      "Epoch 12/20\n",
      "60000/60000 [==============================] - 2s 36us/step - loss: 0.0169 - acc: 0.8870 - val_loss: 0.0151 - val_acc: 0.8996\n",
      "Epoch 13/20\n",
      "60000/60000 [==============================] - 2s 38us/step - loss: 0.0159 - acc: 0.8949 - val_loss: 0.0165 - val_acc: 0.8937\n",
      "Epoch 14/20\n",
      "60000/60000 [==============================] - 2s 37us/step - loss: 0.0163 - acc: 0.8923 - val_loss: 0.0155 - val_acc: 0.8980\n",
      "Epoch 15/20\n",
      "60000/60000 [==============================] - 2s 38us/step - loss: 0.0159 - acc: 0.8939 - val_loss: 0.0151 - val_acc: 0.8981\n",
      "Epoch 16/20\n",
      "60000/60000 [==============================] - 2s 37us/step - loss: 0.0156 - acc: 0.8968 - val_loss: 0.0150 - val_acc: 0.8987\n",
      "Epoch 17/20\n",
      "60000/60000 [==============================] - 2s 38us/step - loss: 0.0152 - acc: 0.8999 - val_loss: 0.0142 - val_acc: 0.9058\n",
      "Epoch 18/20\n",
      "60000/60000 [==============================] - 2s 39us/step - loss: 0.0150 - acc: 0.9018 - val_loss: 0.0145 - val_acc: 0.9051\n",
      "Epoch 19/20\n",
      "60000/60000 [==============================] - 2s 37us/step - loss: 0.0145 - acc: 0.9054 - val_loss: 0.0143 - val_acc: 0.9073\n",
      "Epoch 20/20\n",
      "60000/60000 [==============================] - 2s 41us/step - loss: 0.0148 - acc: 0.9030 - val_loss: 0.0153 - val_acc: 0.8989\n"
     ]
    },
    {
     "data": {
      "text/plain": [
       "<keras.callbacks.History at 0x1f4ce121d30>"
      ]
     },
     "execution_count": 54,
     "metadata": {},
     "output_type": "execute_result"
    }
   ],
   "source": [
    "model_mix = Sequential()\n",
    "\n",
    "model_mix.add(Dense(20, input_dim=784))\n",
    "model_mix.add(Activation('sigmoid'))\n",
    "model_mix.add(Dense(10))\n",
    "model_mix.add(Activation('relu'))\n",
    "model_mix.add(Dense(10))\n",
    "model_mix.add(Activation('softmax'))\n",
    "\n",
    "model_mix.compile(loss='mse',optimizer=Adam(lr=0.001) ,metrics=['accuracy'])\n",
    "\n",
    "model_mix.fit(x_train, y_train, batch_size=100, epochs=20,verbose=1, \n",
    "          validation_data=(x_test, y_test))"
   ]
  },
  {
   "cell_type": "code",
   "execution_count": 85,
   "metadata": {},
   "outputs": [
    {
     "name": "stdout",
     "output_type": "stream",
     "text": [
      "Train on 60000 samples, validate on 10000 samples\n",
      "Epoch 1/20\n",
      "60000/60000 [==============================] - 6s 99us/step - loss: 0.0533 - acc: 0.6233 - val_loss: 0.0368 - val_acc: 0.7556\n",
      "Epoch 2/20\n",
      "60000/60000 [==============================] - 3s 47us/step - loss: 0.0305 - acc: 0.8002 - val_loss: 0.0240 - val_acc: 0.8426\n",
      "Epoch 3/20\n",
      "60000/60000 [==============================] - 3s 44us/step - loss: 0.0253 - acc: 0.8340 - val_loss: 0.0230 - val_acc: 0.8514\n",
      "Epoch 4/20\n",
      "60000/60000 [==============================] - 3s 54us/step - loss: 0.0247 - acc: 0.8353 - val_loss: 0.0229 - val_acc: 0.8513\n",
      "Epoch 5/20\n",
      "60000/60000 [==============================] - 3s 51us/step - loss: 0.0242 - acc: 0.8377 - val_loss: 0.0233 - val_acc: 0.8496\n",
      "Epoch 6/20\n",
      "60000/60000 [==============================] - 3s 54us/step - loss: 0.0226 - acc: 0.8529 - val_loss: 0.0213 - val_acc: 0.8594\n",
      "Epoch 7/20\n",
      "60000/60000 [==============================] - 2s 38us/step - loss: 0.0220 - acc: 0.8541 - val_loss: 0.0218 - val_acc: 0.8605\n",
      "Epoch 8/20\n",
      "60000/60000 [==============================] - 2s 40us/step - loss: 0.0220 - acc: 0.8560 - val_loss: 0.0207 - val_acc: 0.8637\n",
      "Epoch 9/20\n",
      "60000/60000 [==============================] - 3s 46us/step - loss: 0.0216 - acc: 0.8540 - val_loss: 0.0195 - val_acc: 0.8744\n",
      "Epoch 10/20\n",
      "60000/60000 [==============================] - 3s 42us/step - loss: 0.0203 - acc: 0.8660 - val_loss: 0.0203 - val_acc: 0.8679\n",
      "Epoch 11/20\n",
      "60000/60000 [==============================] - 3s 43us/step - loss: 0.0196 - acc: 0.8696 - val_loss: 0.0197 - val_acc: 0.8709\n",
      "Epoch 12/20\n",
      "60000/60000 [==============================] - 2s 40us/step - loss: 0.0198 - acc: 0.8670 - val_loss: 0.0190 - val_acc: 0.8769\n",
      "Epoch 13/20\n",
      "60000/60000 [==============================] - 2s 38us/step - loss: 0.0196 - acc: 0.8693 - val_loss: 0.0202 - val_acc: 0.8677\n",
      "Epoch 14/20\n",
      "60000/60000 [==============================] - 3s 47us/step - loss: 0.0216 - acc: 0.8582 - val_loss: 0.0204 - val_acc: 0.8660\n",
      "Epoch 15/20\n",
      "60000/60000 [==============================] - 2s 41us/step - loss: 0.0198 - acc: 0.8708 - val_loss: 0.0195 - val_acc: 0.8769\n",
      "Epoch 16/20\n",
      "60000/60000 [==============================] - 3s 42us/step - loss: 0.0193 - acc: 0.8737 - val_loss: 0.0185 - val_acc: 0.8803\n",
      "Epoch 17/20\n",
      "60000/60000 [==============================] - 2s 40us/step - loss: 0.0180 - acc: 0.8828 - val_loss: 0.0193 - val_acc: 0.8741\n",
      "Epoch 18/20\n",
      "60000/60000 [==============================] - 2s 40us/step - loss: 0.0193 - acc: 0.8723 - val_loss: 0.0200 - val_acc: 0.8652\n",
      "Epoch 19/20\n",
      "60000/60000 [==============================] - 2s 39us/step - loss: 0.0197 - acc: 0.8709 - val_loss: 0.0197 - val_acc: 0.8707\n",
      "Epoch 20/20\n",
      "60000/60000 [==============================] - 2s 38us/step - loss: 0.0194 - acc: 0.8709 - val_loss: 0.0169 - val_acc: 0.8868\n"
     ]
    },
    {
     "data": {
      "text/plain": [
       "<keras.callbacks.History at 0x1f4e604bba8>"
      ]
     },
     "execution_count": 85,
     "metadata": {},
     "output_type": "execute_result"
    }
   ],
   "source": [
    "model_mix = Sequential()\n",
    "\n",
    "model_mix.add(Dense(20, input_dim=784))\n",
    "model_mix.add(Activation('tanh'))\n",
    "model_mix.add(Dense(10))\n",
    "model_mix.add(Activation('tanh'))\n",
    "model_mix.add(Dense(10))\n",
    "model_mix.add(Activation('softmax'))\n",
    "\n",
    "model_mix.compile(loss='mse',optimizer=Adam(lr=0.001) ,metrics=['accuracy'])\n",
    "\n",
    "model_mix.fit(x_train, y_train, batch_size=100, epochs=20,verbose=1, \n",
    "          validation_data=(x_test, y_test))"
   ]
  },
  {
   "cell_type": "code",
   "execution_count": null,
   "metadata": {},
   "outputs": [],
   "source": []
  }
 ],
 "metadata": {
  "kernelspec": {
   "display_name": "Python 3",
   "language": "python",
   "name": "python3"
  },
  "language_info": {
   "codemirror_mode": {
    "name": "ipython",
    "version": 3
   },
   "file_extension": ".py",
   "mimetype": "text/x-python",
   "name": "python",
   "nbconvert_exporter": "python",
   "pygments_lexer": "ipython3",
   "version": "3.7.1"
  }
 },
 "nbformat": 4,
 "nbformat_minor": 2
}
