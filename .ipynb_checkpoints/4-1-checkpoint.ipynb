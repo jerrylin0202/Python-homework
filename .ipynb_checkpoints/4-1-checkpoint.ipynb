{
 "cells": [
  {
   "cell_type": "code",
   "execution_count": 430,
   "metadata": {},
   "outputs": [],
   "source": [
    "%matplotlib inline\n",
    "\n",
    "import matplotlib.pyplot as plt\n",
    "import numpy as np\n",
    "import pandas as pd\n",
    "import matplotlib as mpl"
   ]
  },
  {
   "cell_type": "code",
   "execution_count": 431,
   "metadata": {},
   "outputs": [],
   "source": [
    "mpl.rc('font', family='Noto Sans CJK TC')"
   ]
  },
  {
   "cell_type": "code",
   "execution_count": 432,
   "metadata": {
    "scrolled": true
   },
   "outputs": [
    {
     "data": {
      "text/plain": [
       "1"
      ]
     },
     "execution_count": 432,
     "metadata": {},
     "output_type": "execute_result"
    }
   ],
   "source": [
    "df = pd.read_html('https://www.basketball-reference.com/players/c/curryst01.html')\n",
    "len(df)"
   ]
  },
  {
   "cell_type": "code",
   "execution_count": 433,
   "metadata": {},
   "outputs": [
    {
     "data": {
      "text/html": [
       "<div>\n",
       "<style scoped>\n",
       "    .dataframe tbody tr th:only-of-type {\n",
       "        vertical-align: middle;\n",
       "    }\n",
       "\n",
       "    .dataframe tbody tr th {\n",
       "        vertical-align: top;\n",
       "    }\n",
       "\n",
       "    .dataframe thead th {\n",
       "        text-align: right;\n",
       "    }\n",
       "</style>\n",
       "<table border=\"1\" class=\"dataframe\">\n",
       "  <thead>\n",
       "    <tr style=\"text-align: right;\">\n",
       "      <th></th>\n",
       "      <th>Season</th>\n",
       "      <th>Age</th>\n",
       "      <th>Tm</th>\n",
       "      <th>Lg</th>\n",
       "      <th>Pos</th>\n",
       "      <th>G</th>\n",
       "      <th>GS</th>\n",
       "      <th>MP</th>\n",
       "      <th>FG</th>\n",
       "      <th>FGA</th>\n",
       "      <th>...</th>\n",
       "      <th>FT%</th>\n",
       "      <th>ORB</th>\n",
       "      <th>DRB</th>\n",
       "      <th>TRB</th>\n",
       "      <th>AST</th>\n",
       "      <th>STL</th>\n",
       "      <th>BLK</th>\n",
       "      <th>TOV</th>\n",
       "      <th>PF</th>\n",
       "      <th>PTS</th>\n",
       "    </tr>\n",
       "  </thead>\n",
       "  <tbody>\n",
       "    <tr>\n",
       "      <th>0</th>\n",
       "      <td>2009-10</td>\n",
       "      <td>21.0</td>\n",
       "      <td>GSW</td>\n",
       "      <td>NBA</td>\n",
       "      <td>PG</td>\n",
       "      <td>80</td>\n",
       "      <td>77</td>\n",
       "      <td>36.2</td>\n",
       "      <td>6.6</td>\n",
       "      <td>14.3</td>\n",
       "      <td>...</td>\n",
       "      <td>0.885</td>\n",
       "      <td>0.6</td>\n",
       "      <td>3.9</td>\n",
       "      <td>4.5</td>\n",
       "      <td>5.9</td>\n",
       "      <td>1.9</td>\n",
       "      <td>0.2</td>\n",
       "      <td>3.0</td>\n",
       "      <td>3.2</td>\n",
       "      <td>17.5</td>\n",
       "    </tr>\n",
       "    <tr>\n",
       "      <th>1</th>\n",
       "      <td>2010-11</td>\n",
       "      <td>22.0</td>\n",
       "      <td>GSW</td>\n",
       "      <td>NBA</td>\n",
       "      <td>PG</td>\n",
       "      <td>74</td>\n",
       "      <td>74</td>\n",
       "      <td>33.6</td>\n",
       "      <td>6.8</td>\n",
       "      <td>14.2</td>\n",
       "      <td>...</td>\n",
       "      <td>0.934</td>\n",
       "      <td>0.7</td>\n",
       "      <td>3.2</td>\n",
       "      <td>3.9</td>\n",
       "      <td>5.8</td>\n",
       "      <td>1.5</td>\n",
       "      <td>0.3</td>\n",
       "      <td>3.1</td>\n",
       "      <td>3.1</td>\n",
       "      <td>18.6</td>\n",
       "    </tr>\n",
       "    <tr>\n",
       "      <th>2</th>\n",
       "      <td>2011-12</td>\n",
       "      <td>23.0</td>\n",
       "      <td>GSW</td>\n",
       "      <td>NBA</td>\n",
       "      <td>PG</td>\n",
       "      <td>26</td>\n",
       "      <td>23</td>\n",
       "      <td>28.2</td>\n",
       "      <td>5.6</td>\n",
       "      <td>11.4</td>\n",
       "      <td>...</td>\n",
       "      <td>0.809</td>\n",
       "      <td>0.6</td>\n",
       "      <td>2.8</td>\n",
       "      <td>3.4</td>\n",
       "      <td>5.3</td>\n",
       "      <td>1.5</td>\n",
       "      <td>0.3</td>\n",
       "      <td>2.5</td>\n",
       "      <td>2.4</td>\n",
       "      <td>14.7</td>\n",
       "    </tr>\n",
       "    <tr>\n",
       "      <th>3</th>\n",
       "      <td>2012-13</td>\n",
       "      <td>24.0</td>\n",
       "      <td>GSW</td>\n",
       "      <td>NBA</td>\n",
       "      <td>PG</td>\n",
       "      <td>78</td>\n",
       "      <td>78</td>\n",
       "      <td>38.2</td>\n",
       "      <td>8.0</td>\n",
       "      <td>17.8</td>\n",
       "      <td>...</td>\n",
       "      <td>0.900</td>\n",
       "      <td>0.8</td>\n",
       "      <td>3.3</td>\n",
       "      <td>4.0</td>\n",
       "      <td>6.9</td>\n",
       "      <td>1.6</td>\n",
       "      <td>0.2</td>\n",
       "      <td>3.1</td>\n",
       "      <td>2.5</td>\n",
       "      <td>22.9</td>\n",
       "    </tr>\n",
       "    <tr>\n",
       "      <th>4</th>\n",
       "      <td>2013-14</td>\n",
       "      <td>25.0</td>\n",
       "      <td>GSW</td>\n",
       "      <td>NBA</td>\n",
       "      <td>PG</td>\n",
       "      <td>78</td>\n",
       "      <td>78</td>\n",
       "      <td>36.5</td>\n",
       "      <td>8.4</td>\n",
       "      <td>17.7</td>\n",
       "      <td>...</td>\n",
       "      <td>0.885</td>\n",
       "      <td>0.6</td>\n",
       "      <td>3.7</td>\n",
       "      <td>4.3</td>\n",
       "      <td>8.5</td>\n",
       "      <td>1.6</td>\n",
       "      <td>0.2</td>\n",
       "      <td>3.8</td>\n",
       "      <td>2.5</td>\n",
       "      <td>24.0</td>\n",
       "    </tr>\n",
       "  </tbody>\n",
       "</table>\n",
       "<p>5 rows × 30 columns</p>\n",
       "</div>"
      ],
      "text/plain": [
       "    Season   Age   Tm   Lg Pos   G  GS    MP   FG   FGA  ...     FT%  ORB  \\\n",
       "0  2009-10  21.0  GSW  NBA  PG  80  77  36.2  6.6  14.3  ...   0.885  0.6   \n",
       "1  2010-11  22.0  GSW  NBA  PG  74  74  33.6  6.8  14.2  ...   0.934  0.7   \n",
       "2  2011-12  23.0  GSW  NBA  PG  26  23  28.2  5.6  11.4  ...   0.809  0.6   \n",
       "3  2012-13  24.0  GSW  NBA  PG  78  78  38.2  8.0  17.8  ...   0.900  0.8   \n",
       "4  2013-14  25.0  GSW  NBA  PG  78  78  36.5  8.4  17.7  ...   0.885  0.6   \n",
       "\n",
       "   DRB  TRB  AST  STL  BLK  TOV   PF   PTS  \n",
       "0  3.9  4.5  5.9  1.9  0.2  3.0  3.2  17.5  \n",
       "1  3.2  3.9  5.8  1.5  0.3  3.1  3.1  18.6  \n",
       "2  2.8  3.4  5.3  1.5  0.3  2.5  2.4  14.7  \n",
       "3  3.3  4.0  6.9  1.6  0.2  3.1  2.5  22.9  \n",
       "4  3.7  4.3  8.5  1.6  0.2  3.8  2.5  24.0  \n",
       "\n",
       "[5 rows x 30 columns]"
      ]
     },
     "execution_count": 433,
     "metadata": {},
     "output_type": "execute_result"
    }
   ],
   "source": [
    "sc = df[0]\n",
    "sc.head()"
   ]
  },
  {
   "cell_type": "markdown",
   "metadata": {},
   "source": [
    "### 真實命中率＝得分/ 2 * (總出手數＋0.44 * 罰球出手數)\n",
    "公式:TS% = PTS/2*(FGA+(0.44*FTA)\n",
    "\n",
    "意義:每消耗一個球權（失誤除外）時，可以換回多少分"
   ]
  },
  {
   "cell_type": "code",
   "execution_count": 434,
   "metadata": {},
   "outputs": [],
   "source": [
    "sc1 = sc[:10]    #刪去total列\n",
    "sc2 = sc1[[\"Season\",\"FG\",\"FTA\",\"PTS\"]] #選出要使用的數據"
   ]
  },
  {
   "cell_type": "code",
   "execution_count": 435,
   "metadata": {},
   "outputs": [
    {
     "data": {
      "text/html": [
       "<div>\n",
       "<style scoped>\n",
       "    .dataframe tbody tr th:only-of-type {\n",
       "        vertical-align: middle;\n",
       "    }\n",
       "\n",
       "    .dataframe tbody tr th {\n",
       "        vertical-align: top;\n",
       "    }\n",
       "\n",
       "    .dataframe thead th {\n",
       "        text-align: right;\n",
       "    }\n",
       "</style>\n",
       "<table border=\"1\" class=\"dataframe\">\n",
       "  <thead>\n",
       "    <tr style=\"text-align: right;\">\n",
       "      <th></th>\n",
       "      <th>Season</th>\n",
       "      <th>FG</th>\n",
       "      <th>FTA</th>\n",
       "      <th>PTS</th>\n",
       "      <th>真實命中率</th>\n",
       "    </tr>\n",
       "  </thead>\n",
       "  <tbody>\n",
       "    <tr>\n",
       "      <th>0</th>\n",
       "      <td>2009-10</td>\n",
       "      <td>6.6</td>\n",
       "      <td>2.5</td>\n",
       "      <td>17.5</td>\n",
       "      <td>31.5000</td>\n",
       "    </tr>\n",
       "    <tr>\n",
       "      <th>1</th>\n",
       "      <td>2010-11</td>\n",
       "      <td>6.8</td>\n",
       "      <td>3.1</td>\n",
       "      <td>18.6</td>\n",
       "      <td>41.5152</td>\n",
       "    </tr>\n",
       "    <tr>\n",
       "      <th>2</th>\n",
       "      <td>2011-12</td>\n",
       "      <td>5.6</td>\n",
       "      <td>1.8</td>\n",
       "      <td>14.7</td>\n",
       "      <td>19.0512</td>\n",
       "    </tr>\n",
       "    <tr>\n",
       "      <th>3</th>\n",
       "      <td>2012-13</td>\n",
       "      <td>8.0</td>\n",
       "      <td>3.7</td>\n",
       "      <td>22.9</td>\n",
       "      <td>61.0056</td>\n",
       "    </tr>\n",
       "    <tr>\n",
       "      <th>4</th>\n",
       "      <td>2013-14</td>\n",
       "      <td>8.4</td>\n",
       "      <td>4.5</td>\n",
       "      <td>24.0</td>\n",
       "      <td>77.7600</td>\n",
       "    </tr>\n",
       "    <tr>\n",
       "      <th>5</th>\n",
       "      <td>2014-15</td>\n",
       "      <td>8.2</td>\n",
       "      <td>4.2</td>\n",
       "      <td>23.8</td>\n",
       "      <td>71.9712</td>\n",
       "    </tr>\n",
       "    <tr>\n",
       "      <th>6</th>\n",
       "      <td>2015-16</td>\n",
       "      <td>10.2</td>\n",
       "      <td>5.1</td>\n",
       "      <td>30.1</td>\n",
       "      <td>110.5272</td>\n",
       "    </tr>\n",
       "    <tr>\n",
       "      <th>7</th>\n",
       "      <td>2016-17</td>\n",
       "      <td>8.5</td>\n",
       "      <td>4.6</td>\n",
       "      <td>25.3</td>\n",
       "      <td>83.7936</td>\n",
       "    </tr>\n",
       "    <tr>\n",
       "      <th>8</th>\n",
       "      <td>2017-18</td>\n",
       "      <td>8.4</td>\n",
       "      <td>5.9</td>\n",
       "      <td>26.4</td>\n",
       "      <td>112.1472</td>\n",
       "    </tr>\n",
       "    <tr>\n",
       "      <th>9</th>\n",
       "      <td>2018-19</td>\n",
       "      <td>9.3</td>\n",
       "      <td>4.3</td>\n",
       "      <td>27.8</td>\n",
       "      <td>86.0688</td>\n",
       "    </tr>\n",
       "  </tbody>\n",
       "</table>\n",
       "</div>"
      ],
      "text/plain": [
       "    Season    FG  FTA   PTS     真實命中率\n",
       "0  2009-10   6.6  2.5  17.5   31.5000\n",
       "1  2010-11   6.8  3.1  18.6   41.5152\n",
       "2  2011-12   5.6  1.8  14.7   19.0512\n",
       "3  2012-13   8.0  3.7  22.9   61.0056\n",
       "4  2013-14   8.4  4.5  24.0   77.7600\n",
       "5  2014-15   8.2  4.2  23.8   71.9712\n",
       "6  2015-16  10.2  5.1  30.1  110.5272\n",
       "7  2016-17   8.5  4.6  25.3   83.7936\n",
       "8  2017-18   8.4  5.9  26.4  112.1472\n",
       "9  2018-19   9.3  4.3  27.8   86.0688"
      ]
     },
     "execution_count": 435,
     "metadata": {},
     "output_type": "execute_result"
    }
   ],
   "source": [
    "sc3 = sc2.loc[:,'Season':'PTS'].copy()\n",
    "sc3['真實命中率'] = sc3.PTS/2*(sc3.FTA + 0.44 * sc3.FTA)\n",
    "sc3\n",
    "\n",
    "#計算真實命中率並加進表格"
   ]
  },
  {
   "cell_type": "code",
   "execution_count": 436,
   "metadata": {},
   "outputs": [],
   "source": [
    "plt.style.use('bmh')"
   ]
  },
  {
   "cell_type": "code",
   "execution_count": 437,
   "metadata": {
    "scrolled": false
   },
   "outputs": [
    {
     "data": {
      "text/plain": [
       "[<matplotlib.lines.Line2D at 0x185ecbdcb00>]"
      ]
     },
     "execution_count": 437,
     "metadata": {},
     "output_type": "execute_result"
    },
    {
     "data": {
      "image/png": "[encoded data removed]",
      "text/plain": [
       "<Figure size 1000x500 with 1 Axes>"
      ]
     },
     "metadata": {
      "needs_background": "light"
     },
     "output_type": "display_data"
    }
   ],
   "source": [
    "plt.figure(figsize=(10,5),dpi=100,linewidth = 0.6)\n",
    "plt.title(\"Stephen Curry生涯真實命中率折線圖\",fontsize = 16)\n",
    "x = sc3.Season\n",
    "y = sc3.真實命中率#x,y座標\n",
    "for a,b in zip(x,y):#在點上顯示數值\n",
    "    plt.text(a, b+0.05, '%.0f' % b, ha='center', va= 'bottom',fontsize=15)\n",
    "plt.xlabel('賽季(年度)',fontsize = 12)\n",
    "plt.ylabel('真實命中率',fontsize = 12)\n",
    "plt.scatter(x,y,s = 100,marker = \"o\" )\n",
    "plt.plot(sc3.Season,sc3.真實命中率,'#FFB11B')"
   ]
  },
  {
   "cell_type": "code",
   "execution_count": 412,
   "metadata": {},
   "outputs": [
    {
     "data": {
      "text/plain": [
       "['bmh',\n",
       " 'classic',\n",
       " 'dark_background',\n",
       " 'fast',\n",
       " 'fivethirtyeight',\n",
       " 'ggplot',\n",
       " 'grayscale',\n",
       " 'seaborn-bright',\n",
       " 'seaborn-colorblind',\n",
       " 'seaborn-dark-palette',\n",
       " 'seaborn-dark',\n",
       " 'seaborn-darkgrid',\n",
       " 'seaborn-deep',\n",
       " 'seaborn-muted',\n",
       " 'seaborn-notebook',\n",
       " 'seaborn-paper',\n",
       " 'seaborn-pastel',\n",
       " 'seaborn-poster',\n",
       " 'seaborn-talk',\n",
       " 'seaborn-ticks',\n",
       " 'seaborn-white',\n",
       " 'seaborn-whitegrid',\n",
       " 'seaborn',\n",
       " 'Solarize_Light2',\n",
       " 'tableau-colorblind10',\n",
       " '_classic_test']"
      ]
     },
     "execution_count": 412,
     "metadata": {},
     "output_type": "execute_result"
    }
   ],
   "source": [
    "plt.style.available"
   ]
  },
  {
   "cell_type": "code",
   "execution_count": null,
   "metadata": {},
   "outputs": [],
   "source": []
  }
 ],
 "metadata": {
  "kernelspec": {
   "display_name": "Python 3",
   "language": "python",
   "name": "python3"
  },
  "language_info": {
   "codemirror_mode": {
    "name": "ipython",
    "version": 3
   },
   "file_extension": ".py",
   "mimetype": "text/x-python",
   "name": "python",
   "nbconvert_exporter": "python",
   "pygments_lexer": "ipython3",
   "version": "3.7.1"
  }
 },
 "nbformat": 4,
 "nbformat_minor": 2
}
