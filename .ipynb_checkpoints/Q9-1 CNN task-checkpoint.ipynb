{
 "cells": [
  {
   "cell_type": "markdown",
   "metadata": {},
   "source": [
    "## 讀入各種需要的套件"
   ]
  },
  {
   "cell_type": "code",
   "execution_count": 1,
   "metadata": {},
   "outputs": [
    {
     "name": "stdout",
     "output_type": "stream",
     "text": [
      "env: KERAS_BACKEND=tensorflow\n"
     ]
    }
   ],
   "source": [
    "%env KERAS_BACKEND=tensorflow"
   ]
  },
  {
   "cell_type": "code",
   "execution_count": 2,
   "metadata": {},
   "outputs": [
    {
     "name": "stderr",
     "output_type": "stream",
     "text": [
      "Using TensorFlow backend.\n"
     ]
    }
   ],
   "source": [
    "%matplotlib inline\n",
    "\n",
    "import numpy as np\n",
    "import matplotlib.pyplot as plt\n",
    "from keras.datasets import mnist\n",
    "\n",
    "from keras.utils import np_utils\n",
    "\n",
    "from keras.layers import Dense, Activation, Flatten\n",
    "from keras.layers import Conv2D, MaxPool2D\n",
    "from keras.optimizers import SGD,Adam,Adadelta,Nadam\n",
    "\n",
    "from keras.utils import to_categorical\n",
    "from keras.models import Sequential\n",
    "from keras.models import Model\n",
    "from keras.layers import Input\n",
    "from keras.layers import concatenate ,add"
   ]
  },
  {
   "cell_type": "markdown",
   "metadata": {},
   "source": [
    "## 準備訓練與驗證資料"
   ]
  },
  {
   "cell_type": "code",
   "execution_count": 3,
   "metadata": {},
   "outputs": [],
   "source": [
    "#讀入手寫辨識資料集\n",
    "(x_train, y_train), (x_test, y_test) = mnist.load_data()\n",
    "#訓練資料reshape至可以進行預測的形狀\n",
    "x_train = x_train.reshape(60000, 28, 28, 1)\n",
    "x_test = x_test.reshape(10000, 28, 28, 1)\n",
    "#1-hot encoding\n",
    "y_train = np_utils.to_categorical(y_train, 10)\n",
    "y_test = np_utils.to_categorical(y_test, 10)\n",
    "#normalization 老師:沒做會很飄\n",
    "x_train = x_train/255\n",
    "x_test = x_test/255"
   ]
  },
  {
   "cell_type": "markdown",
   "metadata": {},
   "source": [
    "## 模型建立\n",
    "建了四層filter分別為8,10,12,16的5*5卷積層\n",
    "再接到10個neuron的dense層"
   ]
  },
  {
   "cell_type": "code",
   "execution_count": 4,
   "metadata": {},
   "outputs": [],
   "source": [
    "#開一個函數學習機\n",
    "model = Sequential()"
   ]
  },
  {
   "cell_type": "code",
   "execution_count": 5,
   "metadata": {},
   "outputs": [
    {
     "name": "stdout",
     "output_type": "stream",
     "text": [
      "WARNING:tensorflow:From C:\\Users\\jerry_yfhgujn\\Anaconda3\\lib\\site-packages\\tensorflow\\python\\framework\\op_def_library.py:263: colocate_with (from tensorflow.python.framework.ops) is deprecated and will be removed in a future version.\n",
      "Instructions for updating:\n",
      "Colocations handled automatically by placer.\n"
     ]
    }
   ],
   "source": [
    "model.add(Conv2D(8,(5,5),padding = 'same',input_shape = (28,28,1)))\n",
    "model.add(Activation('relu'))\n",
    "model.add(MaxPool2D(pool_size=(2,2)))\n",
    "\n",
    "model.add(Conv2D(10, (5,5), padding='same'))\n",
    "model.add(Activation('relu'))\n",
    "model.add(MaxPool2D(pool_size=(2,2)))\n",
    "\n",
    "model.add(Conv2D(12, (5,5), padding='same'))\n",
    "model.add(Activation('relu'))\n",
    "model.add(MaxPool2D(pool_size=(2,2)))\n",
    "\n",
    "model.add(Conv2D(16, (5,5), padding='same'))\n",
    "model.add(Activation('relu'))\n",
    "model.add(MaxPool2D(pool_size=(2,2)))\n",
    "\n",
    "model.add(Flatten())\n",
    "model.add(Dense(10))\n",
    "model.add(Activation('relu'))\n",
    "\n",
    "model.add(Dense(10))\n",
    "model.add(Activation('softmax'))"
   ]
  },
  {
   "cell_type": "code",
   "execution_count": 6,
   "metadata": {},
   "outputs": [
    {
     "name": "stdout",
     "output_type": "stream",
     "text": [
      "_________________________________________________________________\n",
      "Layer (type)                 Output Shape              Param #   \n",
      "=================================================================\n",
      "conv2d_1 (Conv2D)            (None, 28, 28, 8)         208       \n",
      "_________________________________________________________________\n",
      "activation_1 (Activation)    (None, 28, 28, 8)         0         \n",
      "_________________________________________________________________\n",
      "max_pooling2d_1 (MaxPooling2 (None, 14, 14, 8)         0         \n",
      "_________________________________________________________________\n",
      "conv2d_2 (Conv2D)            (None, 14, 14, 10)        2010      \n",
      "_________________________________________________________________\n",
      "activation_2 (Activation)    (None, 14, 14, 10)        0         \n",
      "_________________________________________________________________\n",
      "max_pooling2d_2 (MaxPooling2 (None, 7, 7, 10)          0         \n",
      "_________________________________________________________________\n",
      "conv2d_3 (Conv2D)            (None, 7, 7, 12)          3012      \n",
      "_________________________________________________________________\n",
      "activation_3 (Activation)    (None, 7, 7, 12)          0         \n",
      "_________________________________________________________________\n",
      "max_pooling2d_3 (MaxPooling2 (None, 3, 3, 12)          0         \n",
      "_________________________________________________________________\n",
      "conv2d_4 (Conv2D)            (None, 3, 3, 16)          4816      \n",
      "_________________________________________________________________\n",
      "activation_4 (Activation)    (None, 3, 3, 16)          0         \n",
      "_________________________________________________________________\n",
      "max_pooling2d_4 (MaxPooling2 (None, 1, 1, 16)          0         \n",
      "_________________________________________________________________\n",
      "flatten_1 (Flatten)          (None, 16)                0         \n",
      "_________________________________________________________________\n",
      "dense_1 (Dense)              (None, 10)                170       \n",
      "_________________________________________________________________\n",
      "activation_5 (Activation)    (None, 10)                0         \n",
      "_________________________________________________________________\n",
      "dense_2 (Dense)              (None, 10)                110       \n",
      "_________________________________________________________________\n",
      "activation_6 (Activation)    (None, 10)                0         \n",
      "=================================================================\n",
      "Total params: 10,326\n",
      "Trainable params: 10,326\n",
      "Non-trainable params: 0\n",
      "_________________________________________________________________\n"
     ]
    }
   ],
   "source": [
    "model.compile(loss=\"categorical_crossentropy\",optimizer=Nadam(lr=0.002),metrics=['accuracy'])\n",
    "model.summary()"
   ]
  },
  {
   "cell_type": "code",
   "execution_count": 8,
   "metadata": {
    "scrolled": false
   },
   "outputs": [
    {
     "name": "stdout",
     "output_type": "stream",
     "text": [
      "Train on 60000 samples, validate on 10000 samples\n",
      "Epoch 1/10\n",
      "60000/60000 [==============================] - 19s 309us/step - loss: 0.0285 - acc: 0.9909 - val_loss: 0.0416 - val_acc: 0.9889\n",
      "Epoch 2/10\n",
      "60000/60000 [==============================] - 19s 311us/step - loss: 0.0258 - acc: 0.9917 - val_loss: 0.0400 - val_acc: 0.9883\n",
      "Epoch 3/10\n",
      "60000/60000 [==============================] - 19s 309us/step - loss: 0.0252 - acc: 0.9918 - val_loss: 0.0421 - val_acc: 0.9881\n",
      "Epoch 4/10\n",
      "60000/60000 [==============================] - 19s 310us/step - loss: 0.0233 - acc: 0.9926 - val_loss: 0.0397 - val_acc: 0.9891\n",
      "Epoch 5/10\n",
      "60000/60000 [==============================] - 21s 349us/step - loss: 0.0216 - acc: 0.9929 - val_loss: 0.0425 - val_acc: 0.9893\n",
      "Epoch 6/10\n",
      "60000/60000 [==============================] - 19s 323us/step - loss: 0.0201 - acc: 0.9935 - val_loss: 0.0415 - val_acc: 0.9889\n",
      "Epoch 7/10\n",
      "60000/60000 [==============================] - 20s 333us/step - loss: 0.0196 - acc: 0.9936 - val_loss: 0.0526 - val_acc: 0.9872\n",
      "Epoch 8/10\n",
      "60000/60000 [==============================] - 20s 329us/step - loss: 0.0178 - acc: 0.9944 - val_loss: 0.0476 - val_acc: 0.9866\n",
      "Epoch 9/10\n",
      "60000/60000 [==============================] - 21s 342us/step - loss: 0.0172 - acc: 0.9944 - val_loss: 0.0507 - val_acc: 0.9874\n",
      "Epoch 10/10\n",
      "60000/60000 [==============================] - 19s 321us/step - loss: 0.0162 - acc: 0.9944 - val_loss: 0.0523 - val_acc: 0.9870\n"
     ]
    },
    {
     "data": {
      "text/plain": [
       "<keras.callbacks.History at 0x23ae7311c18>"
      ]
     },
     "execution_count": 8,
     "metadata": {},
     "output_type": "execute_result"
    }
   ],
   "source": [
    "model.fit(x_train, y_train, batch_size=200, epochs=10, verbose=1, validation_data=(x_test, y_test))"
   ]
  },
  {
   "cell_type": "code",
   "execution_count": 11,
   "metadata": {},
   "outputs": [
    {
     "name": "stdout",
     "output_type": "stream",
     "text": [
      "10000/10000 [==============================] - 2s 151us/step\n",
      "測試資料的 loss: 0.05225\n",
      "測試資料的正確率: 0.987\n"
     ]
    }
   ],
   "source": [
    "score = model.evaluate(x_test, y_test)\n",
    "print(f'測試資料的 loss: {score[0]:.5f}')\n",
    "print(f'測試資料的正確率: {score[1]}')"
   ]
  },
  {
   "cell_type": "markdown",
   "metadata": {},
   "source": [
    "## 第二個模型\n",
    "\n",
    "建了三層filter分別為4,6,8的5*5卷積層，再接到10個neuron的dense層，後面接的dense層使用sigmoid激發函數"
   ]
  },
  {
   "cell_type": "code",
   "execution_count": 9,
   "metadata": {},
   "outputs": [
    {
     "name": "stdout",
     "output_type": "stream",
     "text": [
      "_________________________________________________________________\n",
      "Layer (type)                 Output Shape              Param #   \n",
      "=================================================================\n",
      "conv2d_5 (Conv2D)            (None, 28, 28, 4)         104       \n",
      "_________________________________________________________________\n",
      "activation_7 (Activation)    (None, 28, 28, 4)         0         \n",
      "_________________________________________________________________\n",
      "max_pooling2d_5 (MaxPooling2 (None, 14, 14, 4)         0         \n",
      "_________________________________________________________________\n",
      "conv2d_6 (Conv2D)            (None, 14, 14, 6)         606       \n",
      "_________________________________________________________________\n",
      "activation_8 (Activation)    (None, 14, 14, 6)         0         \n",
      "_________________________________________________________________\n",
      "max_pooling2d_6 (MaxPooling2 (None, 7, 7, 6)           0         \n",
      "_________________________________________________________________\n",
      "conv2d_7 (Conv2D)            (None, 7, 7, 8)           1208      \n",
      "_________________________________________________________________\n",
      "activation_9 (Activation)    (None, 7, 7, 8)           0         \n",
      "_________________________________________________________________\n",
      "max_pooling2d_7 (MaxPooling2 (None, 3, 3, 8)           0         \n",
      "_________________________________________________________________\n",
      "flatten_2 (Flatten)          (None, 72)                0         \n",
      "_________________________________________________________________\n",
      "dense_3 (Dense)              (None, 10)                730       \n",
      "_________________________________________________________________\n",
      "activation_10 (Activation)   (None, 10)                0         \n",
      "_________________________________________________________________\n",
      "dense_4 (Dense)              (None, 10)                110       \n",
      "_________________________________________________________________\n",
      "activation_11 (Activation)   (None, 10)                0         \n",
      "=================================================================\n",
      "Total params: 2,758\n",
      "Trainable params: 2,758\n",
      "Non-trainable params: 0\n",
      "_________________________________________________________________\n"
     ]
    }
   ],
   "source": [
    "mod = Sequential()\n",
    "\n",
    "mod.add(Conv2D(4,(5,5),padding = 'same',input_shape = (28,28,1)))\n",
    "mod.add(Activation('relu'))\n",
    "mod.add(MaxPool2D(pool_size=(2,2)))\n",
    "\n",
    "mod.add(Conv2D(6, (5,5), padding='same'))\n",
    "mod.add(Activation('relu'))\n",
    "mod.add(MaxPool2D(pool_size=(2,2)))\n",
    "\n",
    "mod.add(Conv2D(8, (5,5), padding='same'))\n",
    "mod.add(Activation('relu'))\n",
    "mod.add(MaxPool2D(pool_size=(2,2)))\n",
    "\n",
    "mod.add(Flatten())\n",
    "mod.add(Dense(10))\n",
    "mod.add(Activation('sigmoid'))\n",
    "\n",
    "mod.add(Dense(10))\n",
    "mod.add(Activation('softmax'))\n",
    "\n",
    "mod.compile(loss=\"categorical_crossentropy\",optimizer=Adam(lr=0.001),metrics=['accuracy'])\n",
    "mod.summary()"
   ]
  },
  {
   "cell_type": "code",
   "execution_count": 10,
   "metadata": {},
   "outputs": [
    {
     "name": "stdout",
     "output_type": "stream",
     "text": [
      "Train on 60000 samples, validate on 10000 samples\n",
      "Epoch 1/10\n",
      "60000/60000 [==============================] - 32s 537us/step - loss: 1.6234 - acc: 0.6062 - val_loss: 1.0957 - val_acc: 0.8595\n",
      "Epoch 2/10\n",
      "60000/60000 [==============================] - 32s 533us/step - loss: 0.8580 - acc: 0.8863 - val_loss: 0.6643 - val_acc: 0.9120\n",
      "Epoch 3/10\n",
      "60000/60000 [==============================] - 34s 572us/step - loss: 0.5516 - acc: 0.9231 - val_loss: 0.4616 - val_acc: 0.9316\n",
      "Epoch 4/10\n",
      "60000/60000 [==============================] - 37s 623us/step - loss: 0.3994 - acc: 0.9374 - val_loss: 0.3488 - val_acc: 0.9441\n",
      "Epoch 5/10\n",
      "60000/60000 [==============================] - 39s 645us/step - loss: 0.3127 - acc: 0.9451 - val_loss: 0.2803 - val_acc: 0.9502\n",
      "Epoch 6/10\n",
      "60000/60000 [==============================] - 38s 634us/step - loss: 0.2563 - acc: 0.9517 - val_loss: 0.2271 - val_acc: 0.9574\n",
      "Epoch 7/10\n",
      "60000/60000 [==============================] - 36s 593us/step - loss: 0.2183 - acc: 0.9564 - val_loss: 0.1958 - val_acc: 0.9606\n",
      "Epoch 8/10\n",
      "60000/60000 [==============================] - 35s 579us/step - loss: 0.1893 - acc: 0.9601 - val_loss: 0.1806 - val_acc: 0.9601\n",
      "Epoch 9/10\n",
      "60000/60000 [==============================] - 34s 562us/step - loss: 0.1688 - acc: 0.9624 - val_loss: 0.1545 - val_acc: 0.9667\n",
      "Epoch 10/10\n",
      "60000/60000 [==============================] - 36s 607us/step - loss: 0.1516 - acc: 0.9654 - val_loss: 0.1467 - val_acc: 0.9659\n"
     ]
    },
    {
     "data": {
      "text/plain": [
       "<keras.callbacks.History at 0x23aea7569b0>"
      ]
     },
     "execution_count": 10,
     "metadata": {},
     "output_type": "execute_result"
    }
   ],
   "source": [
    "mod.fit(x_train, y_train, batch_size=200, epochs=10, verbose=1, validation_data=(x_test, y_test))"
   ]
  },
  {
   "cell_type": "code",
   "execution_count": 12,
   "metadata": {},
   "outputs": [
    {
     "name": "stdout",
     "output_type": "stream",
     "text": [
      "10000/10000 [==============================] - 2s 154us/step\n",
      "測試資料的 loss: 0.14669\n",
      "測試資料的正確率: 0.9659\n"
     ]
    }
   ],
   "source": [
    "score1 = mod.evaluate(x_test, y_test)\n",
    "print(f'測試資料的 loss: {score1[0]:.5f}')\n",
    "print(f'測試資料的正確率: {score1[1]}')"
   ]
  },
  {
   "cell_type": "markdown",
   "metadata": {},
   "source": [
    "## 結果:兩個模型預測的結果分別為97.8%與96.5%的正確率"
   ]
  }
 ],
 "metadata": {
  "kernelspec": {
   "display_name": "Python 3",
   "language": "python",
   "name": "python3"
  },
  "language_info": {
   "codemirror_mode": {
    "name": "ipython",
    "version": 3
   },
   "file_extension": ".py",
   "mimetype": "text/x-python",
   "name": "python",
   "nbconvert_exporter": "python",
   "pygments_lexer": "ipython3",
   "version": "3.7.1"
  }
 },
 "nbformat": 4,
 "nbformat_minor": 2
}
