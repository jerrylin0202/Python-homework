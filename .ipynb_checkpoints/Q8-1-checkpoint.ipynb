{
 "cells": [
  {
   "cell_type": "markdown",
   "metadata": {},
   "source": [
    "## 讀入需要的套件們"
   ]
  },
  {
   "cell_type": "code",
   "execution_count": 44,
   "metadata": {},
   "outputs": [
    {
     "name": "stdout",
     "output_type": "stream",
     "text": [
      "env: KERAS_BACKEND=tensorflow\n"
     ]
    }
   ],
   "source": [
    "%env KERAS_BACKEND=tensorflow"
   ]
  },
  {
   "cell_type": "code",
   "execution_count": 45,
   "metadata": {},
   "outputs": [],
   "source": [
    "%matplotlib inline\n",
    "import numpy as np\n",
    "import matplotlib.pyplot as plt\n",
    "import pandas as pd\n",
    "from ipywidgets import interact,IntSlider\n",
    "\n",
    "#NN-related\n",
    "from keras.models import Sequential\n",
    "from keras.layers.core import Dense,Activation\n",
    "from keras.optimizers import SGD,Adam\n",
    "\n",
    "from keras.datasets import mnist\n",
    "from keras.utils import to_categorical\n",
    "\n",
    "from keras.models import Model\n",
    "from keras.layers import Input\n",
    "from keras.layers import concatenate ,add"
   ]
  },
  {
   "cell_type": "markdown",
   "metadata": {},
   "source": [
    "### 載入手寫資料集"
   ]
  },
  {
   "cell_type": "code",
   "execution_count": 46,
   "metadata": {},
   "outputs": [],
   "source": [
    "(x_train0,y_train0), (x_test0,y_test0) = mnist.load_data()"
   ]
  },
  {
   "cell_type": "markdown",
   "metadata": {},
   "source": [
    "### 看一下資料大小"
   ]
  },
  {
   "cell_type": "code",
   "execution_count": 47,
   "metadata": {},
   "outputs": [
    {
     "name": "stdout",
     "output_type": "stream",
     "text": [
      "共 60000 筆訓練資料，每筆資料的尺寸為 28 x 28\n",
      "共 10000 筆訓練資料，每筆資料的尺寸為 28 x 28\n"
     ]
    }
   ],
   "source": [
    "print(\"共 %d 筆訓練資料，每筆資料的尺寸為 %d x %d\" %x_train0.shape)\n",
    "print(\"共 %d 筆訓練資料，每筆資料的尺寸為 %d x %d\" %x_test0.shape)"
   ]
  },
  {
   "cell_type": "markdown",
   "metadata": {},
   "source": [
    "### 調整資料大小、標準化、one-hot encoding"
   ]
  },
  {
   "cell_type": "code",
   "execution_count": 48,
   "metadata": {},
   "outputs": [],
   "source": [
    "x_train = x_train0.reshape((60000,28*28))\n",
    "x_test = x_test0.reshape((10000,28*28))"
   ]
  },
  {
   "cell_type": "code",
   "execution_count": 49,
   "metadata": {},
   "outputs": [],
   "source": [
    "x_train -= x_train.min()\n",
    "x_train = x_train/x_train.max()"
   ]
  },
  {
   "cell_type": "code",
   "execution_count": 50,
   "metadata": {},
   "outputs": [],
   "source": [
    "y_train_num = to_categorical(y_train0,10)\n",
    "y_test_num = to_categorical(y_test0,10)"
   ]
  },
  {
   "cell_type": "code",
   "execution_count": 51,
   "metadata": {},
   "outputs": [
    {
     "data": {
      "text/plain": [
       "(0.0, 1.0)"
      ]
     },
     "execution_count": 51,
     "metadata": {},
     "output_type": "execute_result"
    }
   ],
   "source": [
    "x_train.min(),x_train.max()"
   ]
  },
  {
   "cell_type": "code",
   "execution_count": 52,
   "metadata": {},
   "outputs": [],
   "source": [
    "x_test -= x_test.min()\n",
    "x_test = x_test/x_test.max()"
   ]
  },
  {
   "cell_type": "markdown",
   "metadata": {},
   "source": [
    "### 用Function API開始建構本次作業模型\n",
    "\n",
    "![model](functionAPI.jpg)"
   ]
  },
  {
   "cell_type": "code",
   "execution_count": 53,
   "metadata": {},
   "outputs": [],
   "source": [
    "x = Input((784,))\n",
    "\n",
    "f_1 = Dense(200,activation = 'sigmoid')\n",
    "f_2 = Dense(200,activation = 'sigmoid')\n",
    "f_3 = Dense(100,activation = 'relu')\n",
    "f_4 = Dense(100,activation = 'relu')\n",
    "f_5 = Dense(100,activation = 'relu')\n",
    "f_6 = Dense(100,activation = 'relu')\n",
    "ly_out = Dense(10,activation = 'softmax')"
   ]
  },
  {
   "cell_type": "code",
   "execution_count": 54,
   "metadata": {},
   "outputs": [
    {
     "name": "stdout",
     "output_type": "stream",
     "text": [
      "__________________________________________________________________________________________________\n",
      "Layer (type)                    Output Shape         Param #     Connected to                     \n",
      "==================================================================================================\n",
      "input_4 (InputLayer)            (None, 784)          0                                            \n",
      "__________________________________________________________________________________________________\n",
      "dense_14 (Dense)                (None, 200)          157000      input_4[0][0]                    \n",
      "__________________________________________________________________________________________________\n",
      "dense_15 (Dense)                (None, 200)          157000      input_4[0][0]                    \n",
      "__________________________________________________________________________________________________\n",
      "concatenate_5 (Concatenate)     (None, 400)          0           dense_14[0][0]                   \n",
      "                                                                 dense_15[0][0]                   \n",
      "__________________________________________________________________________________________________\n",
      "dense_16 (Dense)                (None, 100)          40100       concatenate_5[0][0]              \n",
      "__________________________________________________________________________________________________\n",
      "dense_17 (Dense)                (None, 100)          40100       concatenate_5[0][0]              \n",
      "__________________________________________________________________________________________________\n",
      "dense_18 (Dense)                (None, 100)          40100       concatenate_5[0][0]              \n",
      "__________________________________________________________________________________________________\n",
      "dense_19 (Dense)                (None, 100)          40100       concatenate_5[0][0]              \n",
      "__________________________________________________________________________________________________\n",
      "concatenate_6 (Concatenate)     (None, 400)          0           dense_16[0][0]                   \n",
      "                                                                 dense_17[0][0]                   \n",
      "                                                                 dense_18[0][0]                   \n",
      "                                                                 dense_19[0][0]                   \n",
      "__________________________________________________________________________________________________\n",
      "dense_20 (Dense)                (None, 10)           4010        concatenate_6[0][0]              \n",
      "==================================================================================================\n",
      "Total params: 478,410\n",
      "Trainable params: 478,410\n",
      "Non-trainable params: 0\n",
      "__________________________________________________________________________________________________\n"
     ]
    }
   ],
   "source": [
    "h_1 = f_1(x)\n",
    "h_2 = f_2(x)\n",
    "z_1 = concatenate([h_1,h_2])\n",
    "h_3 = f_3(z_1)\n",
    "h_4 = f_4(z_1)\n",
    "h_5 = f_5(z_1)\n",
    "h_6 = f_6(z_1)\n",
    "z_2 = concatenate([h_3,h_4,h_5,h_6])\n",
    "y = ly_out(z_2)\n",
    "\n",
    "model = Model(x,y)\n",
    "model.summary()"
   ]
  },
  {
   "cell_type": "code",
   "execution_count": 59,
   "metadata": {},
   "outputs": [
    {
     "name": "stdout",
     "output_type": "stream",
     "text": [
      "Train on 60000 samples, validate on 10000 samples\n",
      "Epoch 1/20\n",
      "60000/60000 [==============================] - 3s 54us/step - loss: 4.7150e-04 - acc: 0.9974 - val_loss: 0.0029 - val_acc: 0.9817\n",
      "Epoch 2/20\n",
      "60000/60000 [==============================] - 3s 44us/step - loss: 3.7951e-04 - acc: 0.9980 - val_loss: 0.0029 - val_acc: 0.9816\n",
      "Epoch 3/20\n",
      "60000/60000 [==============================] - 3s 45us/step - loss: 3.5370e-04 - acc: 0.9981 - val_loss: 0.0029 - val_acc: 0.9820\n",
      "Epoch 4/20\n",
      "60000/60000 [==============================] - 3s 43us/step - loss: 3.4250e-04 - acc: 0.9981 - val_loss: 0.0030 - val_acc: 0.9813\n",
      "Epoch 5/20\n",
      "60000/60000 [==============================] - 3s 42us/step - loss: 3.2411e-04 - acc: 0.9982 - val_loss: 0.0028 - val_acc: 0.9832\n",
      "Epoch 6/20\n",
      "60000/60000 [==============================] - 3s 43us/step - loss: 3.1101e-04 - acc: 0.9983 - val_loss: 0.0029 - val_acc: 0.9821\n",
      "Epoch 7/20\n",
      "60000/60000 [==============================] - 3s 42us/step - loss: 2.8948e-04 - acc: 0.9984 - val_loss: 0.0028 - val_acc: 0.9825\n",
      "Epoch 8/20\n",
      "60000/60000 [==============================] - 3s 42us/step - loss: 2.9343e-04 - acc: 0.9985 - val_loss: 0.0029 - val_acc: 0.9822\n",
      "Epoch 9/20\n",
      "60000/60000 [==============================] - 3s 48us/step - loss: 2.7945e-04 - acc: 0.9985 - val_loss: 0.0028 - val_acc: 0.9831\n",
      "Epoch 10/20\n",
      "60000/60000 [==============================] - 3s 51us/step - loss: 2.7511e-04 - acc: 0.9985 - val_loss: 0.0030 - val_acc: 0.9821\n",
      "Epoch 11/20\n",
      "60000/60000 [==============================] - 3s 47us/step - loss: 2.9189e-04 - acc: 0.9984 - val_loss: 0.0028 - val_acc: 0.9830\n",
      "Epoch 12/20\n",
      "60000/60000 [==============================] - 3s 48us/step - loss: 2.8418e-04 - acc: 0.9985 - val_loss: 0.0028 - val_acc: 0.9834\n",
      "Epoch 13/20\n",
      "60000/60000 [==============================] - 3s 44us/step - loss: 2.6884e-04 - acc: 0.9986 - val_loss: 0.0028 - val_acc: 0.9832\n",
      "Epoch 14/20\n",
      "60000/60000 [==============================] - 3s 44us/step - loss: 2.6459e-04 - acc: 0.9985 - val_loss: 0.0029 - val_acc: 0.9815\n",
      "Epoch 15/20\n",
      "60000/60000 [==============================] - 3s 47us/step - loss: 2.5963e-04 - acc: 0.9986 - val_loss: 0.0029 - val_acc: 0.9822\n",
      "Epoch 16/20\n",
      "60000/60000 [==============================] - 4s 59us/step - loss: 2.5143e-04 - acc: 0.9986 - val_loss: 0.0029 - val_acc: 0.9818\n",
      "Epoch 17/20\n",
      "60000/60000 [==============================] - 3s 45us/step - loss: 2.5387e-04 - acc: 0.9986 - val_loss: 0.0028 - val_acc: 0.9826\n",
      "Epoch 18/20\n",
      "60000/60000 [==============================] - 3s 42us/step - loss: 2.5012e-04 - acc: 0.9987 - val_loss: 0.0028 - val_acc: 0.9823\n",
      "Epoch 19/20\n",
      "60000/60000 [==============================] - 3s 42us/step - loss: 2.5132e-04 - acc: 0.9987 - val_loss: 0.0029 - val_acc: 0.9826\n",
      "Epoch 20/20\n",
      "60000/60000 [==============================] - 3s 42us/step - loss: 2.6053e-04 - acc: 0.9986 - val_loss: 0.0030 - val_acc: 0.9814\n"
     ]
    },
    {
     "data": {
      "text/plain": [
       "<keras.callbacks.History at 0x1ea34534e10>"
      ]
     },
     "execution_count": 59,
     "metadata": {},
     "output_type": "execute_result"
    }
   ],
   "source": [
    "model.compile(loss = 'mse',optimizer=Adam(lr=0.001),metrics = [\"accuracy\"])\n",
    "model.fit(x_train, y_train_num, batch_size=1000, epochs=20, verbose=1, validation_data=(x_test, y_test_num))"
   ]
  },
  {
   "cell_type": "code",
   "execution_count": 60,
   "metadata": {},
   "outputs": [
    {
     "name": "stdout",
     "output_type": "stream",
     "text": [
      "10000/10000 [==============================] - 0s 30us/step\n",
      "model:\n",
      "loss: 0.0030428393485546885\n",
      "正確率: 0.9814\n"
     ]
    }
   ],
   "source": [
    "score = model.evaluate(x_test, y_test_num)\n",
    "print('model:')\n",
    "print('loss:', score[0])\n",
    "print('正確率:', score[1])"
   ]
  },
  {
   "cell_type": "code",
   "execution_count": null,
   "metadata": {},
   "outputs": [],
   "source": []
  }
 ],
 "metadata": {
  "kernelspec": {
   "display_name": "Python 3",
   "language": "python",
   "name": "python3"
  },
  "language_info": {
   "codemirror_mode": {
    "name": "ipython",
    "version": 3
   },
   "file_extension": ".py",
   "mimetype": "text/x-python",
   "name": "python",
   "nbconvert_exporter": "python",
   "pygments_lexer": "ipython3",
   "version": "3.6.7"
  }
 },
 "nbformat": 4,
 "nbformat_minor": 2
}
