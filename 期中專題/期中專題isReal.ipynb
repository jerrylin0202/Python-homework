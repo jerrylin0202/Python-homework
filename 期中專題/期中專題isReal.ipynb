{
 "cells": [
  {
   "cell_type": "code",
   "execution_count": 1,
   "metadata": {},
   "outputs": [],
   "source": [
    "%matplotlib inline\n",
    "\n",
    "import matplotlib.pyplot as plt\n",
    "import pandas as pd\n",
    "import numpy as np\n",
    "import geopandas as gpd\n",
    "from ipywidgets import interact,widgets,fixed\n",
    "from IPython.display import display"
   ]
  },
  {
   "cell_type": "code",
   "execution_count": 2,
   "metadata": {},
   "outputs": [],
   "source": [
    "import matplotlib as mpl\n",
    "mpl.rc('font', family='Noto Sans CJK TC')"
   ]
  },
  {
   "cell_type": "code",
   "execution_count": 3,
   "metadata": {},
   "outputs": [
    {
     "data": {
      "application/vnd.jupyter.widget-view+json": {
       "model_id": "d87b99fa2438438d9cdda5df32e9208e",
       "version_major": 2,
       "version_minor": 0
      },
      "text/plain": [
       "interactive(children=(Dropdown(description='County', index=13, options=('南投縣', '嘉義市', '嘉義縣', '基隆市', '宜蘭縣', '屏東…"
      ]
     },
     "metadata": {},
     "output_type": "display_data"
    },
    {
     "data": {
      "text/plain": [
       "<function __main__.ShowMeTheCounty(County='臺北市')>"
      ]
     },
     "execution_count": 3,
     "metadata": {},
     "output_type": "execute_result"
    }
   ],
   "source": [
    "TW = gpd.read_file('台灣TWD97鄉鎮市\\TOWN_MOI_1071226.shp',encoding = 'utf-8')\n",
    "\n",
    "#先在Excel篩選資料\n",
    "df = pd.read_excel('村里學歷人數改.xlsx',encoding = 'utf-8')\n",
    "colnames = df.loc[0].values\n",
    "df = df[2:]\n",
    "df.columns = colnames\n",
    "df.index = range(1,7760)\n",
    "df.head()\n",
    "\n",
    "df2 = df.groupby(by=['COUNTYNAME','TOWNNAME']).sum()\n",
    "\n",
    "df2.drop(['統計年','區域別代碼','區域別','村里名稱'],axis = 1,inplace = True)\n",
    "df2.reset_index(inplace=True)\n",
    "\n",
    "df3 = pd.merge(TW, df2,how='left')\n",
    "df3.drop(['TOWNID','TOWNCODE','TOWNENG','COUNTYID','COUNTYCODE'],axis = 1,inplace = True)\n",
    "df3 = df3.fillna(0)\n",
    "\n",
    "edu = pd.DataFrame(df3.loc[:,'博士畢':'不識字'])\n",
    "\n",
    "def ShowMeTheTown(town='大安區',df=df3):\n",
    "    \n",
    "    display(df3.loc[df3['TOWNNAME']==town])\n",
    "    edu.loc[df3['TOWNNAME']==town].plot.bar(figsize = (10,10))\n",
    "    plt.plot(title = df3['TOWNNAME']==town+'學歷分布圖')\n",
    "    plt.legend(loc = \"best\")\n",
    "    plt.xlabel(str(town),fontsize=15)\n",
    "    plt.ylabel(\"人數(人)\",fontsize=15)\n",
    "    plt.title(str(town)+'學歷統計圖',fontsize=25)\n",
    "    \n",
    "def ShowMeTheCounty(County='臺北市'):\n",
    "    filter1=df3.drop(df3[df3.COUNTYNAME!=County].index)\n",
    "    filter1.loc[filter1['COUNTYNAME']==County].plot(figsize = (5,5),cmap = 'terrain',alpha = 2)\n",
    "    town_name = filter1['TOWNNAME'].tolist()\n",
    "    interact(ShowMeTheTown,town=town_name,df=fixed(filter1))\n",
    "\n",
    "interact(ShowMeTheCounty,County =['南投縣', '嘉義市', '嘉義縣', '基隆市', '宜蘭縣', '屏東縣', '彰化縣', '新北市', '新竹市', '新竹縣','桃園市', '澎湖縣', '臺中市', '臺北市', '臺南市', '臺東縣', '花蓮縣', '苗栗縣', '連江縣', '金門縣','雲林縣', '高雄市'])"
   ]
  },
  {
   "cell_type": "code",
   "execution_count": null,
   "metadata": {},
   "outputs": [],
   "source": []
  }
 ],
 "metadata": {
  "kernelspec": {
   "display_name": "Python 3",
   "language": "python",
   "name": "python3"
  },
  "language_info": {
   "codemirror_mode": {
    "name": "ipython",
    "version": 3
   },
   "file_extension": ".py",
   "mimetype": "text/x-python",
   "name": "python",
   "nbconvert_exporter": "python",
   "pygments_lexer": "ipython3",
   "version": "3.7.1"
  }
 },
 "nbformat": 4,
 "nbformat_minor": 2
}
