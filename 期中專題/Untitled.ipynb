{
 "cells": [
  {
   "cell_type": "code",
   "execution_count": 1,
   "metadata": {},
   "outputs": [],
   "source": [
    "%matplotlib inline\n",
    "from shapely.geometry import Point\n",
    "import matplotlib.pyplot as plt\n",
    "import numpy as np\n",
    "import pandas as pd\n",
    "import requests\n",
    "import json\n",
    "import geopandas as gpd\n",
    "from ipywidgets import interact, fixed, HTML, widgets\n",
    "from IPython.display import display"
   ]
  },
  {
   "cell_type": "code",
   "execution_count": 2,
   "metadata": {},
   "outputs": [
    {
     "data": {
      "application/vnd.jupyter.widget-view+json": {
       "model_id": "6f72a141181d4bfab0953b6daddf555f",
       "version_major": 2,
       "version_minor": 0
      },
      "text/plain": [
       "interactive(children=(Dropdown(description='region', options=('Africa', 'Americas', 'Asia', 'Europe', 'Oceania…"
      ]
     },
     "metadata": {},
     "output_type": "display_data"
    },
    {
     "data": {
      "text/plain": [
       "<function __main__.getRegionData(region)>"
      ]
     },
     "execution_count": 2,
     "metadata": {},
     "output_type": "execute_result"
    }
   ],
   "source": [
    "def showMap(point):\n",
    "    url = 'https://d2ad6b4ur7yvpq.cloudfront.net/naturalearth-3.3.0/ne_110m_land.geojson'\n",
    "    world_layer = gpd.read_file(url)\n",
    "    world_layer = world_layer.plot(figsize=(15,15),facecolor='none', edgecolor='black')\n",
    "    point.plot(ax=world_layer, markersize=20, color='red')\n",
    "    plt.show()    \n",
    "\n",
    "def getCountyData(name='Algiers', df=None):\n",
    "    url = 'https://www.google.com.tw/maps/place/' + name\n",
    " \n",
    "    html = widgets.HTML(\n",
    "        value='<a target=\"_blank\" href='+ url +'>Go to Google Map</a>'\n",
    "    )\n",
    "    display(html)\n",
    "    display(df.loc[df['name'] == name, ['capital', 'name', 'region', 'population', 'area', 'timezones', 'latlng']])\n",
    "    \n",
    "    df = df.loc[df['name'] == name, ['capital', 'name', 'region', 'population', 'area', 'timezones', 'latlng']]\n",
    "    \n",
    "    name = df['name'].tolist()\n",
    "    capital = df['capital'].tolist()\n",
    "    region = df['region'].tolist()    \n",
    "    population = df['population'].tolist()\n",
    "    area = df['area'].tolist()\n",
    "    timezones = df['timezones'].tolist()\n",
    "    latlng = df['latlng'].tolist()\n",
    "    lat = [i[0] for i in latlng]\n",
    "    lng = [i[1] for i in latlng]\n",
    "    \n",
    "    df = pd.DataFrame({\n",
    "        'name': name,\n",
    "        'capital': capital,\n",
    "        'region': region,\n",
    "        'population': population,\n",
    "        'area': area,\n",
    "        'timezones': timezones,\n",
    "        'lat': lat,\n",
    "        'lng': lng\n",
    "    })\n",
    "\n",
    "    df['Coordinates'] = list(zip(df.lng, df.lat))\n",
    "    df['Coordinates'] = df['Coordinates'].apply(Point)\n",
    "    county_point = gpd.GeoDataFrame(df, geometry='Coordinates')\n",
    "    county_point.crs = {'init' :'epsg:4326'}\n",
    "\n",
    "    showMap(county_point)\n",
    "    \n",
    "def getRegionData(region):\n",
    "    url = 'https://restcountries.eu/rest/v2/region/' + region + \\\n",
    "    '?fields=name;capital;region;latlng;population;area;timezones'\n",
    "    r = requests.get(url)\n",
    "    result = r.json()\n",
    "    df = pd.DataFrame(result)\n",
    "    county_name = df['name'].tolist()\n",
    "    interact(getCountyData, name=county_name, df=fixed(df))\n",
    "\n",
    "interact(getRegionData, region=['Africa', 'Americas', 'Asia', 'Europe', 'Oceania'])"
   ]
  },
  {
   "cell_type": "code",
   "execution_count": 3,
   "metadata": {},
   "outputs": [],
   "source": [
    "%matplotlib inline\n",
    "\n",
    "import matplotlib.pyplot as plt\n",
    "import pandas as pd\n",
    "import numpy as np\n",
    "import geopandas as gpd\n",
    "from ipywidgets import interact,widgets,fixed\n",
    "from IPython.display import display\n",
    "import matplotlib as mpl\n",
    "mpl.rc('font', family='Noto Sans CJK TC')"
   ]
  },
  {
   "cell_type": "code",
   "execution_count": 13,
   "metadata": {},
   "outputs": [
    {
     "data": {
      "application/vnd.jupyter.widget-view+json": {
       "model_id": "88626aed2f4a461aaeb57838279ed18e",
       "version_major": 2,
       "version_minor": 0
      },
      "text/plain": [
       "interactive(children=(Dropdown(description='County', index=13, options=('南投縣', '嘉義市', '嘉義縣', '基隆市', '宜蘭縣', '屏東…"
      ]
     },
     "metadata": {},
     "output_type": "display_data"
    },
    {
     "data": {
      "text/plain": [
       "<function __main__.ShowMeTheCounty(County='臺北市')>"
      ]
     },
     "execution_count": 13,
     "metadata": {},
     "output_type": "execute_result"
    }
   ],
   "source": [
    "TW = gpd.read_file('台灣TWD97鄉鎮市\\TOWN_MOI_1071226.shp',encoding = 'utf-8')\n",
    "\n",
    "df = pd.read_excel('村里學歷人數改.xlsx',encoding = 'utf-8')\n",
    "colnames = df.loc[0].values\n",
    "df = df[2:]\n",
    "df.columns = colnames\n",
    "df.index = range(1,7760)\n",
    "\n",
    "df2 = df.groupby(by='TOWNNAME').sum()\n",
    "\n",
    "df2.drop(['統計年','區域別代碼','區域別','COUNTYNAME','村里名稱'],axis = 1,inplace = True)\n",
    "df2.reset_index(inplace=True)\n",
    "\n",
    "df3 = pd.merge(TW, df2,how='left')\n",
    "df3.drop(['TOWNID','TOWNCODE','TOWNENG','COUNTYID','COUNTYCODE'],axis = 1,inplace = True)\n",
    "df3.crs= {'init' :'epsg:3826'}\n",
    "\n",
    "df3 = df3.fillna(0)\n",
    "\n",
    "edu = pd.DataFrame(df3.loc[:,'博士畢':'不識字'])\n",
    "\n",
    "def ShowMeTheTown(name='信義區'):\n",
    "    global df3\n",
    "    display(df3.loc[df3['TOWNNAME']==name])\n",
    "    edu.loc[10].plot.bar(figsize = (5,5))\n",
    "def ShowMeTheCounty(County='臺北市'):\n",
    "    global df3\n",
    "    df3[df3.COUNTYNAME.str.contains(County)]\n",
    "    df3.loc[df3['COUNTYNAME']==County].plot(figsize = (10,10))\n",
    "    interact(ShowMeTheTown,name=df3['TOWNNAME'],df=fixed(df3))\n",
    "\n",
    "interact(ShowMeTheCounty,County =['南投縣', '嘉義市', '嘉義縣', '基隆市', '宜蘭縣', '屏東縣', '彰化縣', '新北市', '新竹市', '新竹縣','桃園市', '澎湖縣', '臺中市', '臺北市', '臺南市', '臺東縣', '花蓮縣', '苗栗縣', '連江縣', '金門縣','雲林縣', '高雄市'])"
   ]
  },
  {
   "cell_type": "code",
   "execution_count": null,
   "metadata": {},
   "outputs": [],
   "source": []
  }
 ],
 "metadata": {
  "kernelspec": {
   "display_name": "Python 3",
   "language": "python",
   "name": "python3"
  },
  "language_info": {
   "codemirror_mode": {
    "name": "ipython",
    "version": 3
   },
   "file_extension": ".py",
   "mimetype": "text/x-python",
   "name": "python",
   "nbconvert_exporter": "python",
   "pygments_lexer": "ipython3",
   "version": "3.6.7"
  }
 },
 "nbformat": 4,
 "nbformat_minor": 2
}
