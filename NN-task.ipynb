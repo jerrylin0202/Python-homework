{
 "cells": [
  {
   "cell_type": "code",
   "execution_count": 98,
   "metadata": {},
   "outputs": [],
   "source": [
    "%matplotlib inline\n",
    "\n",
    "import numpy as np\n",
    "import matplotlib.pyplot as plt\n",
    "from keras.datasets import mnist\n",
    "import keras"
   ]
  },
  {
   "cell_type": "code",
   "execution_count": 99,
   "metadata": {},
   "outputs": [],
   "source": [
    "(x_train, y_train), (x_test, y_test) = mnist.load_data()"
   ]
  },
  {
   "cell_type": "code",
   "execution_count": 100,
   "metadata": {},
   "outputs": [],
   "source": [
    "from keras.utils import np_utils"
   ]
  },
  {
   "cell_type": "code",
   "execution_count": 101,
   "metadata": {},
   "outputs": [],
   "source": [
    "x_train = x_train.reshape(60000, 784)\n",
    "x_test = x_test.reshape(10000, 784)"
   ]
  },
  {
   "cell_type": "code",
   "execution_count": 102,
   "metadata": {},
   "outputs": [],
   "source": [
    "y_train = np_utils.to_categorical(y_train, 10)\n",
    "y_test = np_utils.to_categorical(y_test, 10)"
   ]
  },
  {
   "cell_type": "code",
   "execution_count": 103,
   "metadata": {},
   "outputs": [],
   "source": [
    "from keras.models import Sequential\n",
    "from keras.layers import Dense, Activation\n",
    "from keras.optimizers import SGD, Adam"
   ]
  },
  {
   "cell_type": "markdown",
   "metadata": {},
   "source": [
    "### 老師的神經網路"
   ]
  },
  {
   "cell_type": "code",
   "execution_count": 104,
   "metadata": {},
   "outputs": [
    {
     "name": "stdout",
     "output_type": "stream",
     "text": [
      "Train on 60000 samples, validate on 10000 samples\n",
      "Epoch 1/20\n",
      "60000/60000 [==============================] - 5s 85us/step - loss: 0.0904 - acc: 0.0991 - val_loss: 0.0901 - val_acc: 0.1009\n",
      "Epoch 2/20\n",
      "60000/60000 [==============================] - 2s 32us/step - loss: 0.0900 - acc: 0.0992 - val_loss: 0.0898 - val_acc: 0.1009\n",
      "Epoch 3/20\n",
      "60000/60000 [==============================] - 2s 36us/step - loss: 0.0897 - acc: 0.0991 - val_loss: 0.0896 - val_acc: 0.1009\n",
      "Epoch 4/20\n",
      "60000/60000 [==============================] - 2s 32us/step - loss: 0.0896 - acc: 0.0992 - val_loss: 0.0895 - val_acc: 0.1009\n",
      "Epoch 5/20\n",
      "60000/60000 [==============================] - 2s 31us/step - loss: 0.0894 - acc: 0.0992 - val_loss: 0.0893 - val_acc: 0.1009\n",
      "Epoch 6/20\n",
      "60000/60000 [==============================] - 2s 31us/step - loss: 0.0893 - acc: 0.0991 - val_loss: 0.0892 - val_acc: 0.1009\n",
      "Epoch 7/20\n",
      "60000/60000 [==============================] - 2s 31us/step - loss: 0.0892 - acc: 0.0992 - val_loss: 0.0891 - val_acc: 0.1009\n",
      "Epoch 8/20\n",
      "60000/60000 [==============================] - 2s 30us/step - loss: 0.0891 - acc: 0.0991 - val_loss: 0.0890 - val_acc: 0.1009\n",
      "Epoch 9/20\n",
      "60000/60000 [==============================] - 2s 30us/step - loss: 0.0890 - acc: 0.1683 - val_loss: 0.0890 - val_acc: 0.1987\n",
      "Epoch 10/20\n",
      "60000/60000 [==============================] - ETA: 0s - loss: 0.0889 - acc: 0.197 - 2s 30us/step - loss: 0.0889 - acc: 0.1976 - val_loss: 0.0889 - val_acc: 0.2026\n",
      "Epoch 11/20\n",
      "60000/60000 [==============================] - 2s 30us/step - loss: 0.0888 - acc: 0.1995 - val_loss: 0.0888 - val_acc: 0.2037\n",
      "Epoch 12/20\n",
      "60000/60000 [==============================] - 2s 31us/step - loss: 0.0888 - acc: 0.2009 - val_loss: 0.0887 - val_acc: 0.2049\n",
      "Epoch 13/20\n",
      "60000/60000 [==============================] - 2s 33us/step - loss: 0.0887 - acc: 0.2024 - val_loss: 0.0886 - val_acc: 0.2055\n",
      "Epoch 14/20\n",
      "60000/60000 [==============================] - 2s 40us/step - loss: 0.0886 - acc: 0.2028 - val_loss: 0.0885 - val_acc: 0.2062\n",
      "Epoch 15/20\n",
      "60000/60000 [==============================] - 2s 41us/step - loss: 0.0885 - acc: 0.2031 - val_loss: 0.0884 - val_acc: 0.2065\n",
      "Epoch 16/20\n",
      "60000/60000 [==============================] - 3s 42us/step - loss: 0.0884 - acc: 0.2037 - val_loss: 0.0883 - val_acc: 0.2066\n",
      "Epoch 17/20\n",
      "60000/60000 [==============================] - 2s 40us/step - loss: 0.0882 - acc: 0.2039 - val_loss: 0.0881 - val_acc: 0.2071\n",
      "Epoch 18/20\n",
      "60000/60000 [==============================] - 2s 36us/step - loss: 0.0881 - acc: 0.2045 - val_loss: 0.0880 - val_acc: 0.2074\n",
      "Epoch 19/20\n",
      "60000/60000 [==============================] - 2s 31us/step - loss: 0.0879 - acc: 0.2051 - val_loss: 0.0878 - val_acc: 0.2070\n",
      "Epoch 20/20\n",
      "60000/60000 [==============================] - 2s 29us/step - loss: 0.0878 - acc: 0.2044 - val_loss: 0.0876 - val_acc: 0.2078\n"
     ]
    },
    {
     "data": {
      "text/plain": [
       "<keras.callbacks.History at 0x1623ebf0cc0>"
      ]
     },
     "execution_count": 104,
     "metadata": {},
     "output_type": "execute_result"
    }
   ],
   "source": [
    "model = Sequential()\n",
    "model.add(Dense(4, input_dim=784))\n",
    "model.add(Activation('sigmoid'))\n",
    "model.add(Dense(2))\n",
    "model.add(Activation('sigmoid'))\n",
    "model.add(Dense(10))\n",
    "model.add(Activation('softmax'))\n",
    "model.compile(loss='mse',optimizer=SGD(lr=0.087) ,metrics=['accuracy'])\n",
    "model.fit(x_train, y_train, batch_size=100, epochs=20,verbose=1, \n",
    "          validation_data=(x_test, y_test))"
   ]
  },
  {
   "cell_type": "markdown",
   "metadata": {},
   "source": [
    "### 先試試改神經元個數"
   ]
  },
  {
   "cell_type": "code",
   "execution_count": 105,
   "metadata": {},
   "outputs": [
    {
     "name": "stdout",
     "output_type": "stream",
     "text": [
      "Train on 60000 samples, validate on 10000 samples\n",
      "Epoch 1/20\n",
      "60000/60000 [==============================] - 7s 110us/step - loss: 0.0881 - acc: 0.2566 - val_loss: 0.0848 - val_acc: 0.3353\n",
      "Epoch 2/20\n",
      "60000/60000 [==============================] - 3s 58us/step - loss: 0.0819 - acc: 0.3692 - val_loss: 0.0785 - val_acc: 0.4335\n",
      "Epoch 3/20\n",
      "60000/60000 [==============================] - 4s 60us/step - loss: 0.0754 - acc: 0.4953 - val_loss: 0.0721 - val_acc: 0.5512\n",
      "Epoch 4/20\n",
      "60000/60000 [==============================] - 3s 50us/step - loss: 0.0693 - acc: 0.5696 - val_loss: 0.0661 - val_acc: 0.6007\n",
      "Epoch 5/20\n",
      "60000/60000 [==============================] - 3s 46us/step - loss: 0.0633 - acc: 0.6141 - val_loss: 0.0601 - val_acc: 0.6344\n",
      "Epoch 6/20\n",
      "60000/60000 [==============================] - 3s 57us/step - loss: 0.0573 - acc: 0.6531 - val_loss: 0.0542 - val_acc: 0.6891\n",
      "Epoch 7/20\n",
      "60000/60000 [==============================] - 4s 61us/step - loss: 0.0517 - acc: 0.7076 - val_loss: 0.0487 - val_acc: 0.7454\n",
      "Epoch 8/20\n",
      "60000/60000 [==============================] - 3s 58us/step - loss: 0.0465 - acc: 0.7586 - val_loss: 0.0438 - val_acc: 0.7792\n",
      "Epoch 9/20\n",
      "60000/60000 [==============================] - 3s 50us/step - loss: 0.0417 - acc: 0.7865 - val_loss: 0.0392 - val_acc: 0.8036\n",
      "Epoch 10/20\n",
      "60000/60000 [==============================] - 3s 46us/step - loss: 0.0376 - acc: 0.8040 - val_loss: 0.0353 - val_acc: 0.8149\n",
      "Epoch 11/20\n",
      "60000/60000 [==============================] - 3s 45us/step - loss: 0.0340 - acc: 0.8137 - val_loss: 0.0319 - val_acc: 0.8251\n",
      "Epoch 12/20\n",
      "60000/60000 [==============================] - 3s 45us/step - loss: 0.0309 - acc: 0.8277 - val_loss: 0.0290 - val_acc: 0.8484\n",
      "Epoch 13/20\n",
      "60000/60000 [==============================] - 3s 45us/step - loss: 0.0281 - acc: 0.8543 - val_loss: 0.0265 - val_acc: 0.8697\n",
      "Epoch 14/20\n",
      "60000/60000 [==============================] - 3s 46us/step - loss: 0.0257 - acc: 0.8753 - val_loss: 0.0242 - val_acc: 0.8851\n",
      "Epoch 15/20\n",
      "60000/60000 [==============================] - 3s 55us/step - loss: 0.0236 - acc: 0.8868 - val_loss: 0.0224 - val_acc: 0.8934\n",
      "Epoch 16/20\n",
      "60000/60000 [==============================] - 3s 50us/step - loss: 0.0218 - acc: 0.8939 - val_loss: 0.0208 - val_acc: 0.8958\n",
      "Epoch 17/20\n",
      "60000/60000 [==============================] - 3s 48us/step - loss: 0.0203 - acc: 0.8985 - val_loss: 0.0194 - val_acc: 0.9036\n",
      "Epoch 18/20\n",
      "60000/60000 [==============================] - 3s 46us/step - loss: 0.0191 - acc: 0.9030 - val_loss: 0.0184 - val_acc: 0.9048\n",
      "Epoch 19/20\n",
      "60000/60000 [==============================] - 3s 45us/step - loss: 0.0181 - acc: 0.9067 - val_loss: 0.0175 - val_acc: 0.9086\n",
      "Epoch 20/20\n",
      "60000/60000 [==============================] - 3s 45us/step - loss: 0.0172 - acc: 0.9098 - val_loss: 0.0167 - val_acc: 0.9094\n"
     ]
    },
    {
     "data": {
      "text/plain": [
       "<keras.callbacks.History at 0x162410bfac8>"
      ]
     },
     "execution_count": 105,
     "metadata": {},
     "output_type": "execute_result"
    }
   ],
   "source": [
    "model = Sequential()\n",
    "model.add(Dense(100, input_dim=784))\n",
    "model.add(Activation('sigmoid'))\n",
    "model.add(Dense(50))\n",
    "model.add(Activation('sigmoid'))\n",
    "model.add(Dense(10))\n",
    "model.add(Activation('softmax'))\n",
    "model.compile(loss='mse',optimizer=SGD(lr=0.087) ,metrics=['accuracy'])\n",
    "model.fit(x_train, y_train, batch_size=100, epochs=20,verbose=1, \n",
    "          validation_data=(x_test, y_test))"
   ]
  },
  {
   "cell_type": "markdown",
   "metadata": {},
   "source": [
    "#### 把隱藏層神經元個數變多，20次以內準確率能達到90%\n",
    "\n",
    "發現若是隱藏層神經元個數從少到多輸出的預測結果較差。而從多到少的預測效果較好"
   ]
  },
  {
   "cell_type": "markdown",
   "metadata": {},
   "source": [
    "### 換一下激發函數"
   ]
  },
  {
   "cell_type": "code",
   "execution_count": 106,
   "metadata": {},
   "outputs": [
    {
     "name": "stdout",
     "output_type": "stream",
     "text": [
      "Train on 60000 samples, validate on 10000 samples\n",
      "Epoch 1/20\n",
      "60000/60000 [==============================] - 5s 86us/step - loss: 0.0902 - acc: 0.1124 - val_loss: 0.0900 - val_acc: 0.1136\n",
      "Epoch 2/20\n",
      "60000/60000 [==============================] - 2s 32us/step - loss: 0.0900 - acc: 0.1124 - val_loss: 0.0900 - val_acc: 0.1136\n",
      "Epoch 3/20\n",
      "60000/60000 [==============================] - 2s 30us/step - loss: 0.0900 - acc: 0.1124 - val_loss: 0.0900 - val_acc: 0.1136\n",
      "Epoch 4/20\n",
      "60000/60000 [==============================] - 2s 29us/step - loss: 0.0900 - acc: 0.1124 - val_loss: 0.0900 - val_acc: 0.1136\n",
      "Epoch 5/20\n",
      "60000/60000 [==============================] - 2s 31us/step - loss: 0.0900 - acc: 0.1124 - val_loss: 0.0900 - val_acc: 0.1136\n",
      "Epoch 6/20\n",
      "60000/60000 [==============================] - 2s 31us/step - loss: 0.0900 - acc: 0.1124 - val_loss: 0.0900 - val_acc: 0.1136\n",
      "Epoch 7/20\n",
      "60000/60000 [==============================] - 2s 32us/step - loss: 0.0900 - acc: 0.1124 - val_loss: 0.0900 - val_acc: 0.1136\n",
      "Epoch 8/20\n",
      "60000/60000 [==============================] - 2s 29us/step - loss: 0.0900 - acc: 0.1124 - val_loss: 0.0900 - val_acc: 0.1136\n",
      "Epoch 9/20\n",
      "60000/60000 [==============================] - 2s 32us/step - loss: 0.0900 - acc: 0.1124 - val_loss: 0.0900 - val_acc: 0.1136\n",
      "Epoch 10/20\n",
      "60000/60000 [==============================] - 2s 30us/step - loss: 0.0900 - acc: 0.1124 - val_loss: 0.0900 - val_acc: 0.1136\n",
      "Epoch 11/20\n",
      "60000/60000 [==============================] - 2s 32us/step - loss: 0.0900 - acc: 0.1124 - val_loss: 0.0900 - val_acc: 0.1136\n",
      "Epoch 12/20\n",
      "60000/60000 [==============================] - 2s 29us/step - loss: 0.0900 - acc: 0.1124 - val_loss: 0.0900 - val_acc: 0.1136\n",
      "Epoch 13/20\n",
      "60000/60000 [==============================] - 2s 31us/step - loss: 0.0900 - acc: 0.1124 - val_loss: 0.0900 - val_acc: 0.1136\n",
      "Epoch 14/20\n",
      "60000/60000 [==============================] - 2s 32us/step - loss: 0.0900 - acc: 0.1124 - val_loss: 0.0900 - val_acc: 0.1136\n",
      "Epoch 15/20\n",
      "60000/60000 [==============================] - 2s 31us/step - loss: 0.0900 - acc: 0.1124 - val_loss: 0.0900 - val_acc: 0.1136\n",
      "Epoch 16/20\n",
      "60000/60000 [==============================] - 2s 29us/step - loss: 0.0900 - acc: 0.1124 - val_loss: 0.0900 - val_acc: 0.1136\n",
      "Epoch 17/20\n",
      "60000/60000 [==============================] - 2s 31us/step - loss: 0.0900 - acc: 0.1124 - val_loss: 0.0900 - val_acc: 0.1136\n",
      "Epoch 18/20\n",
      "60000/60000 [==============================] - 2s 29us/step - loss: 0.0900 - acc: 0.1124 - val_loss: 0.0900 - val_acc: 0.1136\n",
      "Epoch 19/20\n",
      "60000/60000 [==============================] - 2s 31us/step - loss: 0.0900 - acc: 0.1124 - val_loss: 0.0900 - val_acc: 0.1136\n",
      "Epoch 20/20\n",
      "60000/60000 [==============================] - 2s 29us/step - loss: 0.0900 - acc: 0.1124 - val_loss: 0.0900 - val_acc: 0.1136\n"
     ]
    },
    {
     "data": {
      "text/plain": [
       "<keras.callbacks.History at 0x16241368278>"
      ]
     },
     "execution_count": 106,
     "metadata": {},
     "output_type": "execute_result"
    }
   ],
   "source": [
    "model = Sequential()\n",
    "model.add(Dense(4, input_dim=784))\n",
    "model.add(Activation('relu'))\n",
    "model.add(Dense(2))\n",
    "model.add(Activation('relu'))\n",
    "model.add(Dense(10))\n",
    "model.add(Activation('softmax'))\n",
    "model.compile(loss='mse',optimizer=SGD(lr=0.087) ,metrics=['accuracy'])\n",
    "model.fit(x_train, y_train, batch_size=100, epochs=20,verbose=1, \n",
    "          validation_data=(x_test, y_test))"
   ]
  },
  {
   "cell_type": "code",
   "execution_count": 107,
   "metadata": {},
   "outputs": [
    {
     "name": "stdout",
     "output_type": "stream",
     "text": [
      "Train on 60000 samples, validate on 10000 samples\n",
      "Epoch 1/20\n",
      "60000/60000 [==============================] - 5s 88us/step - loss: 0.0893 - acc: 0.2014 - val_loss: 0.0831 - val_acc: 0.2696\n",
      "Epoch 2/20\n",
      "60000/60000 [==============================] - 2s 33us/step - loss: 0.0806 - acc: 0.2776 - val_loss: 0.0769 - val_acc: 0.2897\n",
      "Epoch 3/20\n",
      "60000/60000 [==============================] - 2s 32us/step - loss: 0.0760 - acc: 0.2828 - val_loss: 0.0737 - val_acc: 0.2936\n",
      "Epoch 4/20\n",
      "60000/60000 [==============================] - 2s 33us/step - loss: 0.0744 - acc: 0.2870 - val_loss: 0.0728 - val_acc: 0.2946\n",
      "Epoch 5/20\n",
      "60000/60000 [==============================] - 2s 33us/step - loss: 0.0737 - acc: 0.2891 - val_loss: 0.0728 - val_acc: 0.2881\n",
      "Epoch 6/20\n",
      "60000/60000 [==============================] - 2s 33us/step - loss: 0.0732 - acc: 0.2905 - val_loss: 0.0720 - val_acc: 0.2952\n",
      "Epoch 7/20\n",
      "60000/60000 [==============================] - 2s 33us/step - loss: 0.0731 - acc: 0.2920 - val_loss: 0.0720 - val_acc: 0.2937\n",
      "Epoch 8/20\n",
      "60000/60000 [==============================] - 2s 33us/step - loss: 0.0729 - acc: 0.2906 - val_loss: 0.0717 - val_acc: 0.2992\n",
      "Epoch 9/20\n",
      "60000/60000 [==============================] - 2s 33us/step - loss: 0.0726 - acc: 0.2935 - val_loss: 0.0715 - val_acc: 0.2988\n",
      "Epoch 10/20\n",
      "60000/60000 [==============================] - 2s 34us/step - loss: 0.0726 - acc: 0.2935 - val_loss: 0.0717 - val_acc: 0.2950\n",
      "Epoch 11/20\n",
      "60000/60000 [==============================] - 2s 33us/step - loss: 0.0724 - acc: 0.2944 - val_loss: 0.0715 - val_acc: 0.2987\n",
      "Epoch 12/20\n",
      "60000/60000 [==============================] - 2s 34us/step - loss: 0.0724 - acc: 0.2950 - val_loss: 0.0715 - val_acc: 0.2994\n",
      "Epoch 13/20\n",
      "60000/60000 [==============================] - 2s 34us/step - loss: 0.0723 - acc: 0.2947 - val_loss: 0.0713 - val_acc: 0.2984\n",
      "Epoch 14/20\n",
      "60000/60000 [==============================] - 2s 40us/step - loss: 0.0722 - acc: 0.2953 - val_loss: 0.0716 - val_acc: 0.3011\n",
      "Epoch 15/20\n",
      "60000/60000 [==============================] - 2s 37us/step - loss: 0.0723 - acc: 0.2961 - val_loss: 0.0730 - val_acc: 0.2907\n",
      "Epoch 16/20\n",
      "60000/60000 [==============================] - 2s 40us/step - loss: 0.0722 - acc: 0.2949 - val_loss: 0.0713 - val_acc: 0.3002\n",
      "Epoch 17/20\n",
      "60000/60000 [==============================] - 2s 40us/step - loss: 0.0722 - acc: 0.2953 - val_loss: 0.0714 - val_acc: 0.2986\n",
      "Epoch 18/20\n",
      "60000/60000 [==============================] - 2s 40us/step - loss: 0.0720 - acc: 0.2958 - val_loss: 0.0714 - val_acc: 0.2967\n",
      "Epoch 19/20\n",
      "60000/60000 [==============================] - 2s 38us/step - loss: 0.0721 - acc: 0.2950 - val_loss: 0.0715 - val_acc: 0.2969\n",
      "Epoch 20/20\n",
      "60000/60000 [==============================] - 2s 41us/step - loss: 0.0721 - acc: 0.2961 - val_loss: 0.0712 - val_acc: 0.2984\n"
     ]
    },
    {
     "data": {
      "text/plain": [
       "<keras.callbacks.History at 0x16241607da0>"
      ]
     },
     "execution_count": 107,
     "metadata": {},
     "output_type": "execute_result"
    }
   ],
   "source": [
    "model = Sequential()\n",
    "model.add(Dense(4, input_dim=784))\n",
    "model.add(Activation('selu'))\n",
    "model.add(Dense(2))\n",
    "model.add(Activation('selu'))\n",
    "model.add(Dense(10))\n",
    "model.add(Activation('softmax'))\n",
    "model.compile(loss='mse',optimizer=SGD(lr=0.087) ,metrics=['accuracy'])\n",
    "model.fit(x_train, y_train, batch_size=100, epochs=20,verbose=1, \n",
    "          validation_data=(x_test, y_test))"
   ]
  },
  {
   "cell_type": "code",
   "execution_count": 108,
   "metadata": {},
   "outputs": [
    {
     "name": "stdout",
     "output_type": "stream",
     "text": [
      "Train on 60000 samples, validate on 10000 samples\n",
      "Epoch 1/20\n",
      "60000/60000 [==============================] - 5s 91us/step - loss: 0.0841 - acc: 0.1844 - val_loss: 0.0811 - val_acc: 0.2055\n",
      "Epoch 2/20\n",
      "60000/60000 [==============================] - 2s 31us/step - loss: 0.0811 - acc: 0.2072 - val_loss: 0.0802 - val_acc: 0.2116\n",
      "Epoch 3/20\n",
      "60000/60000 [==============================] - 2s 30us/step - loss: 0.0806 - acc: 0.2081 - val_loss: 0.0798 - val_acc: 0.2116\n",
      "Epoch 4/20\n",
      "60000/60000 [==============================] - 2s 38us/step - loss: 0.0802 - acc: 0.2247 - val_loss: 0.0791 - val_acc: 0.2482\n",
      "Epoch 5/20\n",
      "60000/60000 [==============================] - 2s 35us/step - loss: 0.0793 - acc: 0.2460 - val_loss: 0.0785 - val_acc: 0.2552\n",
      "Epoch 6/20\n",
      "60000/60000 [==============================] - 2s 35us/step - loss: 0.0781 - acc: 0.2591 - val_loss: 0.0764 - val_acc: 0.2789\n",
      "Epoch 7/20\n",
      "60000/60000 [==============================] - 2s 35us/step - loss: 0.0767 - acc: 0.2780 - val_loss: 0.0755 - val_acc: 0.2876\n",
      "Epoch 8/20\n",
      "60000/60000 [==============================] - 3s 50us/step - loss: 0.0757 - acc: 0.2845 - val_loss: 0.0744 - val_acc: 0.2875\n",
      "Epoch 9/20\n",
      "60000/60000 [==============================] - 3s 44us/step - loss: 0.0750 - acc: 0.2845 - val_loss: 0.0736 - val_acc: 0.2955\n",
      "Epoch 10/20\n",
      "60000/60000 [==============================] - 2s 35us/step - loss: 0.0745 - acc: 0.2850 - val_loss: 0.0732 - val_acc: 0.2953\n",
      "Epoch 11/20\n",
      "60000/60000 [==============================] - 2s 39us/step - loss: 0.0743 - acc: 0.2856 - val_loss: 0.0734 - val_acc: 0.2881\n",
      "Epoch 12/20\n",
      "60000/60000 [==============================] - 2s 39us/step - loss: 0.0742 - acc: 0.2882 - val_loss: 0.0732 - val_acc: 0.2948\n",
      "Epoch 13/20\n",
      "60000/60000 [==============================] - 2s 32us/step - loss: 0.0740 - acc: 0.2901 - val_loss: 0.0735 - val_acc: 0.2956\n",
      "Epoch 14/20\n",
      "60000/60000 [==============================] - 2s 30us/step - loss: 0.0739 - acc: 0.2865 - val_loss: 0.0728 - val_acc: 0.2936\n",
      "Epoch 15/20\n",
      "60000/60000 [==============================] - 2s 31us/step - loss: 0.0737 - acc: 0.2892 - val_loss: 0.0732 - val_acc: 0.2905\n",
      "Epoch 16/20\n",
      "60000/60000 [==============================] - 2s 31us/step - loss: 0.0737 - acc: 0.2924 - val_loss: 0.0730 - val_acc: 0.2951\n",
      "Epoch 17/20\n",
      "60000/60000 [==============================] - 2s 31us/step - loss: 0.0735 - acc: 0.2882 - val_loss: 0.0727 - val_acc: 0.2947\n",
      "Epoch 18/20\n",
      "60000/60000 [==============================] - 2s 30us/step - loss: 0.0735 - acc: 0.2895 - val_loss: 0.0728 - val_acc: 0.2952\n",
      "Epoch 19/20\n",
      "60000/60000 [==============================] - 2s 30us/step - loss: 0.0735 - acc: 0.2916 - val_loss: 0.0733 - val_acc: 0.2978\n",
      "Epoch 20/20\n",
      "60000/60000 [==============================] - 2s 30us/step - loss: 0.0735 - acc: 0.2910 - val_loss: 0.0731 - val_acc: 0.2900\n"
     ]
    },
    {
     "data": {
      "text/plain": [
       "<keras.callbacks.History at 0x162419054e0>"
      ]
     },
     "execution_count": 108,
     "metadata": {},
     "output_type": "execute_result"
    }
   ],
   "source": [
    "model = Sequential()\n",
    "model.add(Dense(4, input_dim=784))\n",
    "model.add(Activation('elu'))\n",
    "model.add(Dense(2))\n",
    "model.add(Activation('elu'))\n",
    "model.add(Dense(10))\n",
    "model.add(Activation('softmax'))\n",
    "model.compile(loss='mse',optimizer=SGD(lr=0.087) ,metrics=['accuracy'])\n",
    "model.fit(x_train, y_train, batch_size=100, epochs=20,verbose=1, \n",
    "          validation_data=(x_test, y_test))"
   ]
  },
  {
   "cell_type": "code",
   "execution_count": 109,
   "metadata": {},
   "outputs": [
    {
     "name": "stdout",
     "output_type": "stream",
     "text": [
      "Train on 60000 samples, validate on 10000 samples\n",
      "Epoch 1/20\n",
      "60000/60000 [==============================] - 5s 91us/step - loss: 0.0878 - acc: 0.1642 - val_loss: 0.0854 - val_acc: 0.2358\n",
      "Epoch 2/20\n",
      "60000/60000 [==============================] - 2s 31us/step - loss: 0.0845 - acc: 0.2579 - val_loss: 0.0836 - val_acc: 0.3013\n",
      "Epoch 3/20\n",
      "60000/60000 [==============================] - 2s 31us/step - loss: 0.0826 - acc: 0.3254 - val_loss: 0.0818 - val_acc: 0.3491\n",
      "Epoch 4/20\n",
      "60000/60000 [==============================] - 2s 31us/step - loss: 0.0812 - acc: 0.3550 - val_loss: 0.0802 - val_acc: 0.3819\n",
      "Epoch 5/20\n",
      "60000/60000 [==============================] - 2s 30us/step - loss: 0.0799 - acc: 0.3641 - val_loss: 0.0793 - val_acc: 0.3604\n",
      "Epoch 6/20\n",
      "60000/60000 [==============================] - 2s 30us/step - loss: 0.0786 - acc: 0.3582 - val_loss: 0.0780 - val_acc: 0.3365\n",
      "Epoch 7/20\n",
      "60000/60000 [==============================] - 2s 31us/step - loss: 0.0773 - acc: 0.3452 - val_loss: 0.0768 - val_acc: 0.3446\n",
      "Epoch 8/20\n",
      "60000/60000 [==============================] - 2s 31us/step - loss: 0.0763 - acc: 0.3490 - val_loss: 0.0756 - val_acc: 0.3521\n",
      "Epoch 9/20\n",
      "60000/60000 [==============================] - 2s 30us/step - loss: 0.0755 - acc: 0.3478 - val_loss: 0.0748 - val_acc: 0.3499\n",
      "Epoch 10/20\n",
      "60000/60000 [==============================] - 2s 30us/step - loss: 0.0744 - acc: 0.3506 - val_loss: 0.0738 - val_acc: 0.3495\n",
      "Epoch 11/20\n",
      "60000/60000 [==============================] - 2s 30us/step - loss: 0.0735 - acc: 0.3515 - val_loss: 0.0731 - val_acc: 0.3493\n",
      "Epoch 12/20\n",
      "60000/60000 [==============================] - 2s 30us/step - loss: 0.0725 - acc: 0.3517 - val_loss: 0.0727 - val_acc: 0.3404\n",
      "Epoch 13/20\n",
      "60000/60000 [==============================] - 2s 30us/step - loss: 0.0723 - acc: 0.3496 - val_loss: 0.0730 - val_acc: 0.3542\n",
      "Epoch 14/20\n",
      "60000/60000 [==============================] - 2s 31us/step - loss: 0.0715 - acc: 0.3518 - val_loss: 0.0704 - val_acc: 0.3545\n",
      "Epoch 15/20\n",
      "60000/60000 [==============================] - 2s 30us/step - loss: 0.0710 - acc: 0.3535 - val_loss: 0.0701 - val_acc: 0.3509\n",
      "Epoch 16/20\n",
      "60000/60000 [==============================] - 2s 31us/step - loss: 0.0709 - acc: 0.3461 - val_loss: 0.0709 - val_acc: 0.3295\n",
      "Epoch 17/20\n",
      "60000/60000 [==============================] - 2s 38us/step - loss: 0.0699 - acc: 0.3548 - val_loss: 0.0699 - val_acc: 0.3534\n",
      "Epoch 18/20\n",
      "60000/60000 [==============================] - 2s 35us/step - loss: 0.0689 - acc: 0.3709 - val_loss: 0.0678 - val_acc: 0.4424\n",
      "Epoch 19/20\n",
      "60000/60000 [==============================] - 2s 32us/step - loss: 0.0684 - acc: 0.4366 - val_loss: 0.0676 - val_acc: 0.4325\n",
      "Epoch 20/20\n",
      "60000/60000 [==============================] - 2s 32us/step - loss: 0.0678 - acc: 0.4371 - val_loss: 0.0683 - val_acc: 0.4306\n"
     ]
    },
    {
     "data": {
      "text/plain": [
       "<keras.callbacks.History at 0x16242ba59e8>"
      ]
     },
     "execution_count": 109,
     "metadata": {},
     "output_type": "execute_result"
    }
   ],
   "source": [
    "model = Sequential()\n",
    "model.add(Dense(4, input_dim=784))\n",
    "model.add(Activation('tanh'))\n",
    "model.add(Dense(2))\n",
    "model.add(Activation('tanh'))\n",
    "model.add(Dense(10))\n",
    "model.add(Activation('softmax'))\n",
    "model.compile(loss='mse',optimizer=SGD(lr=0.087) ,metrics=['accuracy'])\n",
    "model.fit(x_train, y_train, batch_size=100, epochs=20,verbose=1, \n",
    "          validation_data=(x_test, y_test))"
   ]
  },
  {
   "cell_type": "markdown",
   "metadata": {},
   "source": [
    "### 試試看改learning rate\n",
    "用sigmoid當激發函數，lr=1時，最後可以學到50%左右的正確率，但還是沒有達標"
   ]
  },
  {
   "cell_type": "code",
   "execution_count": 110,
   "metadata": {},
   "outputs": [
    {
     "name": "stdout",
     "output_type": "stream",
     "text": [
      "Train on 60000 samples, validate on 10000 samples\n",
      "Epoch 1/20\n",
      "60000/60000 [==============================] - 5s 89us/step - loss: 0.0880 - acc: 0.1030 - val_loss: 0.0863 - val_acc: 0.1135\n",
      "Epoch 2/20\n",
      "60000/60000 [==============================] - 2s 30us/step - loss: 0.0850 - acc: 0.1865 - val_loss: 0.0841 - val_acc: 0.2090\n",
      "Epoch 3/20\n",
      "60000/60000 [==============================] - 2s 30us/step - loss: 0.0822 - acc: 0.2097 - val_loss: 0.0807 - val_acc: 0.2115\n",
      "Epoch 4/20\n",
      "60000/60000 [==============================] - 2s 30us/step - loss: 0.0801 - acc: 0.2168 - val_loss: 0.0789 - val_acc: 0.2253\n",
      "Epoch 5/20\n",
      "60000/60000 [==============================] - 2s 30us/step - loss: 0.0787 - acc: 0.2761 - val_loss: 0.0782 - val_acc: 0.2850\n",
      "Epoch 6/20\n",
      "60000/60000 [==============================] - 2s 30us/step - loss: 0.0777 - acc: 0.3019 - val_loss: 0.0770 - val_acc: 0.2982\n",
      "Epoch 7/20\n",
      "60000/60000 [==============================] - 2s 30us/step - loss: 0.0765 - acc: 0.3001 - val_loss: 0.0756 - val_acc: 0.3009\n",
      "Epoch 8/20\n",
      "60000/60000 [==============================] - 2s 30us/step - loss: 0.0757 - acc: 0.2994 - val_loss: 0.0748 - val_acc: 0.3026\n",
      "Epoch 9/20\n",
      "60000/60000 [==============================] - 2s 30us/step - loss: 0.0749 - acc: 0.3000 - val_loss: 0.0748 - val_acc: 0.2944\n",
      "Epoch 10/20\n",
      "60000/60000 [==============================] - 2s 30us/step - loss: 0.0744 - acc: 0.2993 - val_loss: 0.0742 - val_acc: 0.2976\n",
      "Epoch 11/20\n",
      "60000/60000 [==============================] - 2s 30us/step - loss: 0.0741 - acc: 0.2985 - val_loss: 0.0772 - val_acc: 0.2727\n",
      "Epoch 12/20\n",
      "60000/60000 [==============================] - 2s 30us/step - loss: 0.0749 - acc: 0.3269 - val_loss: 0.0735 - val_acc: 0.2978\n",
      "Epoch 13/20\n",
      "60000/60000 [==============================] - 2s 33us/step - loss: 0.0737 - acc: 0.3131 - val_loss: 0.0729 - val_acc: 0.3014\n",
      "Epoch 14/20\n",
      "60000/60000 [==============================] - 2s 30us/step - loss: 0.0733 - acc: 0.3144 - val_loss: 0.0729 - val_acc: 0.3860\n",
      "Epoch 15/20\n",
      "60000/60000 [==============================] - 2s 30us/step - loss: 0.0731 - acc: 0.3740 - val_loss: 0.0725 - val_acc: 0.3814\n",
      "Epoch 16/20\n",
      "60000/60000 [==============================] - 2s 30us/step - loss: 0.0730 - acc: 0.3834 - val_loss: 0.0741 - val_acc: 0.3628\n",
      "Epoch 17/20\n",
      "60000/60000 [==============================] - 2s 30us/step - loss: 0.0728 - acc: 0.3790 - val_loss: 0.0723 - val_acc: 0.3860\n",
      "Epoch 18/20\n",
      "60000/60000 [==============================] - 2s 30us/step - loss: 0.0726 - acc: 0.3819 - val_loss: 0.0724 - val_acc: 0.3800\n",
      "Epoch 19/20\n",
      "60000/60000 [==============================] - 2s 32us/step - loss: 0.0724 - acc: 0.3796 - val_loss: 0.0721 - val_acc: 0.3728\n",
      "Epoch 20/20\n",
      "60000/60000 [==============================] - 2s 31us/step - loss: 0.0724 - acc: 0.3790 - val_loss: 0.0719 - val_acc: 0.3881\n"
     ]
    },
    {
     "data": {
      "text/plain": [
       "<keras.callbacks.History at 0x16242e507b8>"
      ]
     },
     "execution_count": 110,
     "metadata": {},
     "output_type": "execute_result"
    }
   ],
   "source": [
    "model = Sequential()\n",
    "model.add(Dense(4, input_dim=784))\n",
    "model.add(Activation('sigmoid'))\n",
    "model.add(Dense(2))\n",
    "model.add(Activation('sigmoid'))\n",
    "model.add(Dense(10))\n",
    "model.add(Activation('softmax'))\n",
    "model.compile(loss='mse',optimizer=SGD(lr=1) ,metrics=['accuracy'])\n",
    "model.fit(x_train, y_train, batch_size=100, epochs=20,verbose=1, \n",
    "          validation_data=(x_test, y_test))"
   ]
  },
  {
   "cell_type": "code",
   "execution_count": 111,
   "metadata": {
    "scrolled": false
   },
   "outputs": [
    {
     "name": "stdout",
     "output_type": "stream",
     "text": [
      "Train on 60000 samples, validate on 10000 samples\n",
      "Epoch 1/20\n",
      "60000/60000 [==============================] - 6s 98us/step - loss: 2.2794 - acc: 0.1229 - val_loss: 2.3105 - val_acc: 0.0979\n",
      "Epoch 2/20\n",
      "60000/60000 [==============================] - 2s 33us/step - loss: 2.3071 - acc: 0.1043 - val_loss: 2.3052 - val_acc: 0.0897\n",
      "Epoch 3/20\n",
      "60000/60000 [==============================] - 2s 33us/step - loss: 2.3067 - acc: 0.1041 - val_loss: 2.3150 - val_acc: 0.1033\n",
      "Epoch 4/20\n",
      "60000/60000 [==============================] - 2s 34us/step - loss: 2.3083 - acc: 0.1045 - val_loss: 2.3095 - val_acc: 0.0985\n",
      "Epoch 5/20\n",
      "60000/60000 [==============================] - 2s 33us/step - loss: 2.3078 - acc: 0.1032 - val_loss: 2.3051 - val_acc: 0.1140\n",
      "Epoch 6/20\n",
      "60000/60000 [==============================] - 2s 33us/step - loss: 2.3072 - acc: 0.1069 - val_loss: 2.3053 - val_acc: 0.1140\n",
      "Epoch 7/20\n",
      "60000/60000 [==============================] - 2s 33us/step - loss: 2.3071 - acc: 0.1069 - val_loss: 2.3099 - val_acc: 0.0982\n",
      "Epoch 8/20\n",
      "60000/60000 [==============================] - 2s 32us/step - loss: 2.3081 - acc: 0.1024 - val_loss: 2.3068 - val_acc: 0.1137\n",
      "Epoch 9/20\n",
      "60000/60000 [==============================] - 2s 33us/step - loss: 2.3069 - acc: 0.1057 - val_loss: 2.3150 - val_acc: 0.0979\n",
      "Epoch 10/20\n",
      "60000/60000 [==============================] - 2s 33us/step - loss: 2.3081 - acc: 0.1039 - val_loss: 2.3035 - val_acc: 0.1140\n",
      "Epoch 11/20\n",
      "60000/60000 [==============================] - 2s 33us/step - loss: 2.3066 - acc: 0.1063 - val_loss: 2.3105 - val_acc: 0.1033\n",
      "Epoch 12/20\n",
      "60000/60000 [==============================] - 2s 33us/step - loss: 2.3086 - acc: 0.1034 - val_loss: 2.3040 - val_acc: 0.0982\n",
      "Epoch 13/20\n",
      "60000/60000 [==============================] - 2s 33us/step - loss: 2.3073 - acc: 0.1049 - val_loss: 2.3016 - val_acc: 0.1014\n",
      "Epoch 14/20\n",
      "60000/60000 [==============================] - 2s 32us/step - loss: 2.3069 - acc: 0.1065 - val_loss: 2.3037 - val_acc: 0.1037\n",
      "Epoch 15/20\n",
      "60000/60000 [==============================] - 2s 34us/step - loss: 2.3082 - acc: 0.1063 - val_loss: 2.3035 - val_acc: 0.1030\n",
      "Epoch 16/20\n",
      "60000/60000 [==============================] - 2s 34us/step - loss: 2.3066 - acc: 0.1044 - val_loss: 2.3048 - val_acc: 0.1140\n",
      "Epoch 17/20\n",
      "60000/60000 [==============================] - 2s 37us/step - loss: 2.3069 - acc: 0.1071 - val_loss: 2.3067 - val_acc: 0.1011\n",
      "Epoch 18/20\n",
      "60000/60000 [==============================] - 2s 32us/step - loss: 2.3072 - acc: 0.1036 - val_loss: 2.3064 - val_acc: 0.1030\n",
      "Epoch 19/20\n",
      "60000/60000 [==============================] - 2s 33us/step - loss: 2.3075 - acc: 0.1051 - val_loss: 2.3079 - val_acc: 0.1140\n",
      "Epoch 20/20\n",
      "60000/60000 [==============================] - 2s 33us/step - loss: 2.3077 - acc: 0.1041 - val_loss: 2.3069 - val_acc: 0.0982\n"
     ]
    },
    {
     "data": {
      "text/plain": [
       "<keras.callbacks.History at 0x1623d37ae48>"
      ]
     },
     "execution_count": 111,
     "metadata": {},
     "output_type": "execute_result"
    }
   ],
   "source": [
    "model = Sequential()\n",
    "model.add(Dense(4, input_dim=784))\n",
    "model.add(Activation('sigmoid'))\n",
    "model.add(Dense(2))\n",
    "model.add(Activation('sigmoid'))\n",
    "model.add(Dense(10))\n",
    "model.add(Activation('softmax'))\n",
    "model.compile(loss='categorical_crossentropy',optimizer=Adam(lr=0.1) ,metrics=['accuracy'])\n",
    "model.fit(x_train, y_train, batch_size=100, epochs=20,verbose=1, \n",
    "          validation_data=(x_test, y_test))"
   ]
  },
  {
   "cell_type": "markdown",
   "metadata": {},
   "source": [
    "#### 只改動參數但發現預測的結果一直都蠻差的，因此推測應該是神經元個數太少了\n",
    "--------\n",
    "### 調整各種參數"
   ]
  },
  {
   "cell_type": "code",
   "execution_count": 120,
   "metadata": {},
   "outputs": [
    {
     "name": "stdout",
     "output_type": "stream",
     "text": [
      "Train on 60000 samples, validate on 10000 samples\n",
      "Epoch 1/30\n",
      "60000/60000 [==============================] - 7s 110us/step - loss: 0.0328 - acc: 0.8032 - val_loss: 0.0154 - val_acc: 0.9107\n",
      "Epoch 2/30\n",
      "60000/60000 [==============================] - 3s 46us/step - loss: 0.0135 - acc: 0.9172 - val_loss: 0.0120 - val_acc: 0.9250\n",
      "Epoch 3/30\n",
      "60000/60000 [==============================] - 3s 43us/step - loss: 0.0109 - acc: 0.9323 - val_loss: 0.0105 - val_acc: 0.9346\n",
      "Epoch 4/30\n",
      "60000/60000 [==============================] - 3s 45us/step - loss: 0.0096 - acc: 0.9392 - val_loss: 0.0089 - val_acc: 0.9443\n",
      "Epoch 5/30\n",
      "60000/60000 [==============================] - 3s 44us/step - loss: 0.0086 - acc: 0.9452 - val_loss: 0.0081 - val_acc: 0.9482\n",
      "Epoch 6/30\n",
      "60000/60000 [==============================] - 3s 43us/step - loss: 0.0081 - acc: 0.9475 - val_loss: 0.0076 - val_acc: 0.9490\n",
      "Epoch 7/30\n",
      "60000/60000 [==============================] - 3s 43us/step - loss: 0.0077 - acc: 0.9513 - val_loss: 0.0075 - val_acc: 0.9508\n",
      "Epoch 8/30\n",
      "60000/60000 [==============================] - 3s 45us/step - loss: 0.0070 - acc: 0.9554 - val_loss: 0.0074 - val_acc: 0.9520\n",
      "Epoch 9/30\n",
      "60000/60000 [==============================] - 3s 43us/step - loss: 0.0067 - acc: 0.9571 - val_loss: 0.0069 - val_acc: 0.9565\n",
      "Epoch 10/30\n",
      "60000/60000 [==============================] - 3s 43us/step - loss: 0.0066 - acc: 0.9588 - val_loss: 0.0070 - val_acc: 0.9545\n",
      "Epoch 11/30\n",
      "60000/60000 [==============================] - 3s 44us/step - loss: 0.0065 - acc: 0.9579 - val_loss: 0.0067 - val_acc: 0.9565\n",
      "Epoch 12/30\n",
      "60000/60000 [==============================] - 3s 43us/step - loss: 0.0062 - acc: 0.9605 - val_loss: 0.0063 - val_acc: 0.9587\n",
      "Epoch 13/30\n",
      "60000/60000 [==============================] - 3s 43us/step - loss: 0.0059 - acc: 0.9626 - val_loss: 0.0063 - val_acc: 0.9601\n",
      "Epoch 14/30\n",
      "60000/60000 [==============================] - 3s 45us/step - loss: 0.0060 - acc: 0.9614 - val_loss: 0.0070 - val_acc: 0.9550\n",
      "Epoch 15/30\n",
      "60000/60000 [==============================] - 3s 46us/step - loss: 0.0061 - acc: 0.9610 - val_loss: 0.0065 - val_acc: 0.9573\n",
      "Epoch 16/30\n",
      "60000/60000 [==============================] - 3s 47us/step - loss: 0.0058 - acc: 0.9633 - val_loss: 0.0060 - val_acc: 0.9627\n",
      "Epoch 17/30\n",
      "60000/60000 [==============================] - 3s 42us/step - loss: 0.0059 - acc: 0.9625 - val_loss: 0.0065 - val_acc: 0.9575\n",
      "Epoch 18/30\n",
      "60000/60000 [==============================] - 3s 50us/step - loss: 0.0060 - acc: 0.9620 - val_loss: 0.0064 - val_acc: 0.9586\n",
      "Epoch 19/30\n",
      "60000/60000 [==============================] - 3s 45us/step - loss: 0.0057 - acc: 0.9633 - val_loss: 0.0063 - val_acc: 0.9583\n",
      "Epoch 20/30\n",
      "60000/60000 [==============================] - 3s 45us/step - loss: 0.0055 - acc: 0.9648 - val_loss: 0.0060 - val_acc: 0.9605\n",
      "Epoch 21/30\n",
      "60000/60000 [==============================] - 3s 43us/step - loss: 0.0055 - acc: 0.9648 - val_loss: 0.0066 - val_acc: 0.9573\n",
      "Epoch 22/30\n",
      "60000/60000 [==============================] - 3s 49us/step - loss: 0.0058 - acc: 0.9631 - val_loss: 0.0061 - val_acc: 0.9601\n",
      "Epoch 23/30\n",
      "60000/60000 [==============================] - 3s 43us/step - loss: 0.0055 - acc: 0.9643 - val_loss: 0.0062 - val_acc: 0.9601\n",
      "Epoch 24/30\n",
      "60000/60000 [==============================] - 3s 42us/step - loss: 0.0057 - acc: 0.9636 - val_loss: 0.0058 - val_acc: 0.9617\n",
      "Epoch 25/30\n",
      "60000/60000 [==============================] - 3s 43us/step - loss: 0.0052 - acc: 0.9669 - val_loss: 0.0074 - val_acc: 0.9512\n",
      "Epoch 26/30\n",
      "60000/60000 [==============================] - 3s 43us/step - loss: 0.0055 - acc: 0.9649 - val_loss: 0.0055 - val_acc: 0.9649\n",
      "Epoch 27/30\n",
      "60000/60000 [==============================] - 3s 42us/step - loss: 0.0051 - acc: 0.9671 - val_loss: 0.0053 - val_acc: 0.9665\n",
      "Epoch 28/30\n",
      "60000/60000 [==============================] - 3s 44us/step - loss: 0.0048 - acc: 0.9690 - val_loss: 0.0059 - val_acc: 0.9623\n",
      "Epoch 29/30\n",
      "60000/60000 [==============================] - 3s 43us/step - loss: 0.0050 - acc: 0.9683 - val_loss: 0.0056 - val_acc: 0.9637\n",
      "Epoch 30/30\n",
      "60000/60000 [==============================] - 3s 43us/step - loss: 0.0050 - acc: 0.9681 - val_loss: 0.0057 - val_acc: 0.9625\n"
     ]
    }
   ],
   "source": [
    "model_mix1 = Sequential()\n",
    "model_mix1.add(Dense(200, input_dim=784))\n",
    "model_mix1.add(Activation('relu'))\n",
    "model_mix1.add(Dense(50))\n",
    "model_mix1.add(Activation('sigmoid'))\n",
    "model_mix1.add(Dense(10))\n",
    "model_mix1.add(Activation('softmax'))\n",
    "model_mix1.compile(loss='mse',optimizer=Adam(lr=0.001) ,metrics=['accuracy'])\n",
    "model_mix1_fit=model_mix1.fit(x_train, y_train, batch_size=200, epochs=30,verbose=1, \n",
    "          validation_data=(x_test, y_test))"
   ]
  },
  {
   "cell_type": "code",
   "execution_count": 113,
   "metadata": {},
   "outputs": [
    {
     "name": "stdout",
     "output_type": "stream",
     "text": [
      "10000/10000 [==============================] - 1s 101us/step\n",
      "testing data 的正確率： 0.9609\n"
     ]
    }
   ],
   "source": [
    "predict = model.predict_classes(x_test)\n",
    "score = model_mix1.evaluate(x_test, y_test)\n",
    "print('testing data 的正確率：', score[1])"
   ]
  },
  {
   "cell_type": "code",
   "execution_count": 121,
   "metadata": {
    "scrolled": false
   },
   "outputs": [
    {
     "name": "stdout",
     "output_type": "stream",
     "text": [
      "Train on 60000 samples, validate on 10000 samples\n",
      "Epoch 1/40\n",
      "60000/60000 [==============================] - 7s 115us/step - loss: 0.0323 - acc: 0.8085 - val_loss: 0.0100 - val_acc: 0.9382\n",
      "Epoch 2/40\n",
      "60000/60000 [==============================] - 3s 46us/step - loss: 0.0086 - acc: 0.9463 - val_loss: 0.0077 - val_acc: 0.9501\n",
      "Epoch 3/40\n",
      "60000/60000 [==============================] - 3s 56us/step - loss: 0.0066 - acc: 0.9587 - val_loss: 0.0065 - val_acc: 0.9573\n",
      "Epoch 4/40\n",
      "60000/60000 [==============================] - 3s 43us/step - loss: 0.0057 - acc: 0.9640 - val_loss: 0.0062 - val_acc: 0.9599\n",
      "Epoch 5/40\n",
      "60000/60000 [==============================] - 3s 43us/step - loss: 0.0050 - acc: 0.9685 - val_loss: 0.0053 - val_acc: 0.9670\n",
      "Epoch 6/40\n",
      "60000/60000 [==============================] - 3s 45us/step - loss: 0.0044 - acc: 0.9719 - val_loss: 0.0049 - val_acc: 0.9681\n",
      "Epoch 7/40\n",
      "60000/60000 [==============================] - 3s 56us/step - loss: 0.0042 - acc: 0.9728 - val_loss: 0.0053 - val_acc: 0.9677\n",
      "Epoch 8/40\n",
      "60000/60000 [==============================] - 3s 45us/step - loss: 0.0040 - acc: 0.9754 - val_loss: 0.0051 - val_acc: 0.9675\n",
      "Epoch 9/40\n",
      "60000/60000 [==============================] - 3s 48us/step - loss: 0.0039 - acc: 0.9751 - val_loss: 0.0047 - val_acc: 0.9701\n",
      "Epoch 10/40\n",
      "60000/60000 [==============================] - 3s 43us/step - loss: 0.0035 - acc: 0.9782 - val_loss: 0.0046 - val_acc: 0.9705\n",
      "Epoch 11/40\n",
      "60000/60000 [==============================] - 3s 44us/step - loss: 0.0034 - acc: 0.9784 - val_loss: 0.0046 - val_acc: 0.9702\n",
      "Epoch 12/40\n",
      "60000/60000 [==============================] - 3s 54us/step - loss: 0.0030 - acc: 0.9811 - val_loss: 0.0044 - val_acc: 0.9719\n",
      "Epoch 13/40\n",
      "60000/60000 [==============================] - 3s 43us/step - loss: 0.0028 - acc: 0.9827 - val_loss: 0.0046 - val_acc: 0.9701\n",
      "Epoch 14/40\n",
      "60000/60000 [==============================] - 3s 43us/step - loss: 0.0028 - acc: 0.9829 - val_loss: 0.0040 - val_acc: 0.9743\n",
      "Epoch 15/40\n",
      "60000/60000 [==============================] - 3s 43us/step - loss: 0.0029 - acc: 0.9816 - val_loss: 0.0046 - val_acc: 0.9700\n",
      "Epoch 16/40\n",
      "60000/60000 [==============================] - 3s 43us/step - loss: 0.0028 - acc: 0.9821 - val_loss: 0.0042 - val_acc: 0.9729\n",
      "Epoch 17/40\n",
      "60000/60000 [==============================] - 3s 43us/step - loss: 0.0028 - acc: 0.9825 - val_loss: 0.0043 - val_acc: 0.9722\n",
      "Epoch 18/40\n",
      "60000/60000 [==============================] - 3s 43us/step - loss: 0.0027 - acc: 0.9836 - val_loss: 0.0041 - val_acc: 0.9750\n",
      "Epoch 19/40\n",
      "60000/60000 [==============================] - 3s 43us/step - loss: 0.0027 - acc: 0.9830 - val_loss: 0.0040 - val_acc: 0.9755\n",
      "Epoch 20/40\n",
      "60000/60000 [==============================] - 3s 43us/step - loss: 0.0023 - acc: 0.9857 - val_loss: 0.0042 - val_acc: 0.9727\n",
      "Epoch 21/40\n",
      "60000/60000 [==============================] - 3s 43us/step - loss: 0.0025 - acc: 0.9842 - val_loss: 0.0052 - val_acc: 0.9669\n",
      "Epoch 22/40\n",
      "60000/60000 [==============================] - 3s 43us/step - loss: 0.0024 - acc: 0.9849 - val_loss: 0.0044 - val_acc: 0.9726\n",
      "Epoch 23/40\n",
      "60000/60000 [==============================] - 3s 42us/step - loss: 0.0024 - acc: 0.9850 - val_loss: 0.0039 - val_acc: 0.9748\n",
      "Epoch 24/40\n",
      "60000/60000 [==============================] - 3s 43us/step - loss: 0.0024 - acc: 0.9851 - val_loss: 0.0041 - val_acc: 0.9741\n",
      "Epoch 25/40\n",
      "60000/60000 [==============================] - 3s 42us/step - loss: 0.0023 - acc: 0.9856 - val_loss: 0.0039 - val_acc: 0.9754\n",
      "Epoch 26/40\n",
      "60000/60000 [==============================] - 3s 43us/step - loss: 0.0025 - acc: 0.9846 - val_loss: 0.0037 - val_acc: 0.9770\n",
      "Epoch 27/40\n",
      "60000/60000 [==============================] - 3s 44us/step - loss: 0.0024 - acc: 0.9853 - val_loss: 0.0043 - val_acc: 0.9713\n",
      "Epoch 28/40\n",
      "60000/60000 [==============================] - 3s 43us/step - loss: 0.0023 - acc: 0.9854 - val_loss: 0.0041 - val_acc: 0.9745\n",
      "Epoch 29/40\n",
      "60000/60000 [==============================] - 3s 43us/step - loss: 0.0023 - acc: 0.9855 - val_loss: 0.0040 - val_acc: 0.9740\n",
      "Epoch 30/40\n",
      "60000/60000 [==============================] - 3s 42us/step - loss: 0.0022 - acc: 0.9861 - val_loss: 0.0039 - val_acc: 0.9755\n",
      "Epoch 31/40\n",
      "60000/60000 [==============================] - 3s 43us/step - loss: 0.0022 - acc: 0.9860 - val_loss: 0.0041 - val_acc: 0.9747\n",
      "Epoch 32/40\n",
      "60000/60000 [==============================] - 3s 43us/step - loss: 0.0020 - acc: 0.9872 - val_loss: 0.0041 - val_acc: 0.9745\n",
      "Epoch 33/40\n",
      "60000/60000 [==============================] - 3s 43us/step - loss: 0.0022 - acc: 0.9866 - val_loss: 0.0042 - val_acc: 0.9742\n",
      "Epoch 34/40\n",
      "60000/60000 [==============================] - 3s 42us/step - loss: 0.0021 - acc: 0.9867 - val_loss: 0.0048 - val_acc: 0.9689\n",
      "Epoch 35/40\n",
      "60000/60000 [==============================] - 3s 42us/step - loss: 0.0021 - acc: 0.9870 - val_loss: 0.0042 - val_acc: 0.9745\n",
      "Epoch 36/40\n",
      "60000/60000 [==============================] - 3s 42us/step - loss: 0.0022 - acc: 0.9862 - val_loss: 0.0041 - val_acc: 0.9742\n",
      "Epoch 37/40\n",
      "60000/60000 [==============================] - 3s 43us/step - loss: 0.0022 - acc: 0.9865 - val_loss: 0.0039 - val_acc: 0.9756\n",
      "Epoch 38/40\n",
      "60000/60000 [==============================] - 3s 43us/step - loss: 0.0019 - acc: 0.9880 - val_loss: 0.0042 - val_acc: 0.9740\n",
      "Epoch 39/40\n",
      "60000/60000 [==============================] - 3s 44us/step - loss: 0.0020 - acc: 0.9878 - val_loss: 0.0047 - val_acc: 0.9706\n",
      "Epoch 40/40\n",
      "60000/60000 [==============================] - 3s 42us/step - loss: 0.0021 - acc: 0.9869 - val_loss: 0.0043 - val_acc: 0.9732\n"
     ]
    }
   ],
   "source": [
    "model_mix = Sequential()\n",
    "\n",
    "model_mix.add(Dense(200, input_dim=784))\n",
    "model_mix.add(Activation('relu'))\n",
    "model_mix.add(Dense(100))\n",
    "model_mix.add(Activation('relu'))\n",
    "model_mix.add(Dense(100))\n",
    "model_mix.add(Activation('sigmoid'))\n",
    "model_mix.add(Dense(100))\n",
    "model_mix.add(Activation('sigmoid'))\n",
    "model_mix.add(Dense(10))\n",
    "model_mix.add(Activation('softmax'))\n",
    "\n",
    "model_mix.compile(loss='mse',optimizer=Adam(lr=0.001) ,metrics=['accuracy'])\n",
    "\n",
    "model_mix_fit = model_mix.fit(x_train, y_train, batch_size=300, epochs=40,verbose=1, \n",
    "          validation_data=(x_test, y_test))"
   ]
  },
  {
   "cell_type": "code",
   "execution_count": 122,
   "metadata": {},
   "outputs": [
    {
     "name": "stdout",
     "output_type": "stream",
     "text": [
      "10000/10000 [==============================] - 1s 102us/step\n",
      "testing data 的正確率： 0.9732\n"
     ]
    }
   ],
   "source": [
    "predict = model.predict_classes(x_test)\n",
    "score = model_mix.evaluate(x_test, y_test)\n",
    "print('testing data 的正確率：', score[1])"
   ]
  },
  {
   "cell_type": "code",
   "execution_count": 119,
   "metadata": {},
   "outputs": [
    {
     "name": "stdout",
     "output_type": "stream",
     "text": [
      "Train on 60000 samples, validate on 10000 samples\n",
      "Epoch 1/20\n",
      "60000/60000 [==============================] - 6s 92us/step - loss: 0.0277 - acc: 0.8077 - val_loss: 0.0162 - val_acc: 0.8954\n",
      "Epoch 2/20\n",
      "60000/60000 [==============================] - 2s 28us/step - loss: 0.0153 - acc: 0.9010 - val_loss: 0.0149 - val_acc: 0.9024\n",
      "Epoch 3/20\n",
      "60000/60000 [==============================] - 2s 29us/step - loss: 0.0134 - acc: 0.9123 - val_loss: 0.0131 - val_acc: 0.9131\n",
      "Epoch 4/20\n",
      "60000/60000 [==============================] - 2s 33us/step - loss: 0.0123 - acc: 0.9200 - val_loss: 0.0118 - val_acc: 0.9229\n",
      "Epoch 5/20\n",
      "60000/60000 [==============================] - 2s 28us/step - loss: 0.0122 - acc: 0.9201 - val_loss: 0.0120 - val_acc: 0.9210\n",
      "Epoch 6/20\n",
      "60000/60000 [==============================] - 2s 28us/step - loss: 0.0118 - acc: 0.9233 - val_loss: 0.0122 - val_acc: 0.9206\n",
      "Epoch 7/20\n",
      "60000/60000 [==============================] - 2s 27us/step - loss: 0.0109 - acc: 0.9290 - val_loss: 0.0107 - val_acc: 0.9289\n",
      "Epoch 8/20\n",
      "60000/60000 [==============================] - 2s 27us/step - loss: 0.0105 - acc: 0.9311 - val_loss: 0.0108 - val_acc: 0.9286\n",
      "Epoch 9/20\n",
      "60000/60000 [==============================] - 2s 27us/step - loss: 0.0108 - acc: 0.9286 - val_loss: 0.0105 - val_acc: 0.9317\n",
      "Epoch 10/20\n",
      "60000/60000 [==============================] - 2s 26us/step - loss: 0.0099 - acc: 0.9353 - val_loss: 0.0100 - val_acc: 0.9353\n",
      "Epoch 11/20\n",
      "60000/60000 [==============================] - 2s 26us/step - loss: 0.0099 - acc: 0.9355 - val_loss: 0.0100 - val_acc: 0.9348\n",
      "Epoch 12/20\n",
      "60000/60000 [==============================] - 2s 26us/step - loss: 0.0095 - acc: 0.9377 - val_loss: 0.0094 - val_acc: 0.9399\n",
      "Epoch 13/20\n",
      "60000/60000 [==============================] - 2s 26us/step - loss: 0.0092 - acc: 0.9392 - val_loss: 0.0091 - val_acc: 0.9400\n",
      "Epoch 14/20\n",
      "60000/60000 [==============================] - 2s 27us/step - loss: 0.0087 - acc: 0.9430 - val_loss: 0.0090 - val_acc: 0.9407\n",
      "Epoch 15/20\n",
      "60000/60000 [==============================] - 2s 27us/step - loss: 0.0085 - acc: 0.9447 - val_loss: 0.0089 - val_acc: 0.9423\n",
      "Epoch 16/20\n",
      "60000/60000 [==============================] - 2s 26us/step - loss: 0.0086 - acc: 0.9437 - val_loss: 0.0082 - val_acc: 0.9458\n",
      "Epoch 17/20\n",
      "60000/60000 [==============================] - 2s 26us/step - loss: 0.0086 - acc: 0.9435 - val_loss: 0.0089 - val_acc: 0.9399\n",
      "Epoch 18/20\n",
      "60000/60000 [==============================] - 2s 27us/step - loss: 0.0082 - acc: 0.9467 - val_loss: 0.0087 - val_acc: 0.9428\n",
      "Epoch 19/20\n",
      "60000/60000 [==============================] - 2s 27us/step - loss: 0.0084 - acc: 0.9454 - val_loss: 0.0091 - val_acc: 0.9391\n",
      "Epoch 20/20\n",
      "60000/60000 [==============================] - 2s 27us/step - loss: 0.0082 - acc: 0.9468 - val_loss: 0.0087 - val_acc: 0.9435\n"
     ]
    }
   ],
   "source": [
    "model_tanh = Sequential()\n",
    "\n",
    "model_tanh.add(Dense(200, input_dim=784))\n",
    "model_tanh.add(Activation('tanh'))\n",
    "model_tanh.add(Dense(100))\n",
    "model_tanh.add(Activation('tanh'))\n",
    "model_tanh.add(Dense(10))\n",
    "model_tanh.add(Activation('softmax'))\n",
    "\n",
    "model_tanh.compile(loss='mse',optimizer=Adam(lr=0.001) ,metrics=['accuracy'])\n",
    "\n",
    "model_tanh_fit=model_tanh.fit(x_train, y_train, batch_size=500, epochs=20,verbose=1, \n",
    "          validation_data=(x_test, y_test))"
   ]
  },
  {
   "cell_type": "code",
   "execution_count": 123,
   "metadata": {},
   "outputs": [
    {
     "name": "stdout",
     "output_type": "stream",
     "text": [
      "10000/10000 [==============================] - 1s 87us/step\n",
      "testing data 的正確率： 0.9435\n"
     ]
    }
   ],
   "source": [
    "predict = model.predict_classes(x_test)\n",
    "score = model_tanh.evaluate(x_test, y_test)\n",
    "print('testing data 的正確率：', score[1])"
   ]
  },
  {
   "cell_type": "code",
   "execution_count": 124,
   "metadata": {},
   "outputs": [
    {
     "data": {
      "text/plain": [
       "<matplotlib.legend.Legend at 0x1624905eb38>"
      ]
     },
     "execution_count": 124,
     "metadata": {},
     "output_type": "execute_result"
    },
    {
     "data": {
      "image/png": "[encoded data removed]",
      "text/plain": [
       "<Figure size 432x288 with 1 Axes>"
      ]
     },
     "metadata": {
      "needs_background": "light"
     },
     "output_type": "display_data"
    }
   ],
   "source": [
    "plt.plot(model_mix1_fit.history[\"acc\"])\n",
    "plt.plot(model_mix_fit.history[\"acc\"])\n",
    "plt.plot(model_tanh_fit.history[\"acc\"])\n",
    "\n",
    "plt.title(\"model training accuracy\")\n",
    "plt.ylabel(\"accuracy\")\n",
    "plt.xlabel(\"epoch\")\n",
    "plt.legend([\"model_mix1\", \"model_mix\",'model_tanh'], loc = \"best\")"
   ]
  },
  {
   "cell_type": "markdown",
   "metadata": {},
   "source": [
    "### 最後訓練了三個設定不太一樣但結果都很不錯的模型，預測準確率在94%~97%的區間"
   ]
  },
  {
   "cell_type": "code",
   "execution_count": null,
   "metadata": {},
   "outputs": [],
   "source": []
  }
 ],
 "metadata": {
  "kernelspec": {
   "display_name": "Python 3",
   "language": "python",
   "name": "python3"
  },
  "language_info": {
   "codemirror_mode": {
    "name": "ipython",
    "version": 3
   },
   "file_extension": ".py",
   "mimetype": "text/x-python",
   "name": "python",
   "nbconvert_exporter": "python",
   "pygments_lexer": "ipython3",
   "version": "3.6.7"
  }
 },
 "nbformat": 4,
 "nbformat_minor": 2
}
