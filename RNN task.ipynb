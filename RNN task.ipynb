{
 "cells": [
  {
   "cell_type": "code",
   "execution_count": 27,
   "metadata": {},
   "outputs": [
    {
     "name": "stdout",
     "output_type": "stream",
     "text": [
      "env: KERAS_BACKEND=tensorflow\n"
     ]
    }
   ],
   "source": [
    "%env KERAS_BACKEND = tensorflow"
   ]
  },
  {
   "cell_type": "code",
   "execution_count": 28,
   "metadata": {},
   "outputs": [],
   "source": [
    "%matplotlib inline\n",
    "import matplotlib.pyplot as plt\n",
    "import numpy as np\n",
    "\n",
    "\n",
    "from keras.datasets import imdb\n",
    "\n",
    "from keras.models import Sequential\n",
    "from keras.layers import Dense, Embedding,Dropout\n",
    "from keras.layers import LSTM\n",
    "import keras.callbacks"
   ]
  },
  {
   "cell_type": "code",
   "execution_count": 29,
   "metadata": {},
   "outputs": [],
   "source": [
    "(x_train, y_train), (x_test, y_test) = imdb.load_data(num_words=10000)"
   ]
  },
  {
   "cell_type": "code",
   "execution_count": 30,
   "metadata": {},
   "outputs": [
    {
     "name": "stdout",
     "output_type": "stream",
     "text": [
      "訓練總筆數 25000\n",
      "測試總筆數 25000\n"
     ]
    }
   ],
   "source": [
    "print('訓練總筆數',len(x_train))\n",
    "print('測試總筆數',len(x_test))"
   ]
  },
  {
   "cell_type": "code",
   "execution_count": 31,
   "metadata": {},
   "outputs": [],
   "source": [
    "from keras.preprocessing import sequence"
   ]
  },
  {
   "cell_type": "code",
   "execution_count": 32,
   "metadata": {},
   "outputs": [],
   "source": [
    "#pad_sequences若資料太長則截斷，太短則補0\n",
    "x_train = sequence.pad_sequences(x_train, maxlen=150)\n",
    "x_test = sequence.pad_sequences(x_test, maxlen=150)"
   ]
  },
  {
   "cell_type": "code",
   "execution_count": 33,
   "metadata": {},
   "outputs": [
    {
     "data": {
      "text/plain": [
       "(25000, 150)"
      ]
     },
     "execution_count": 33,
     "metadata": {},
     "output_type": "execute_result"
    }
   ],
   "source": [
    "x_train.shape"
   ]
  },
  {
   "cell_type": "code",
   "execution_count": 34,
   "metadata": {},
   "outputs": [],
   "source": [
    "N = 10 # 文字要壓到 N 維\n",
    "K = 50 # LSTM 有 K 個神經元"
   ]
  },
  {
   "cell_type": "code",
   "execution_count": 44,
   "metadata": {},
   "outputs": [],
   "source": [
    "model = Sequential()\n",
    "\n",
    "model.add(Embedding(10000, N))\n",
    "\n",
    "model.add(LSTM(K))\n",
    "\n",
    "model.add(Dense(1, activation='sigmoid'))"
   ]
  },
  {
   "cell_type": "code",
   "execution_count": 45,
   "metadata": {},
   "outputs": [],
   "source": [
    "model.compile(loss='binary_crossentropy',\n",
    "              optimizer='RMSProp',metrics=['accuracy'])"
   ]
  },
  {
   "cell_type": "code",
   "execution_count": 46,
   "metadata": {},
   "outputs": [
    {
     "name": "stdout",
     "output_type": "stream",
     "text": [
      "_________________________________________________________________\n",
      "Layer (type)                 Output Shape              Param #   \n",
      "=================================================================\n",
      "embedding_13 (Embedding)     (None, None, 10)          100000    \n",
      "_________________________________________________________________\n",
      "lstm_13 (LSTM)               (None, 50)                12200     \n",
      "_________________________________________________________________\n",
      "dense_11 (Dense)             (None, 1)                 51        \n",
      "=================================================================\n",
      "Total params: 112,251\n",
      "Trainable params: 112,251\n",
      "Non-trainable params: 0\n",
      "_________________________________________________________________\n"
     ]
    }
   ],
   "source": [
    "model.summary()"
   ]
  },
  {
   "cell_type": "code",
   "execution_count": 47,
   "metadata": {},
   "outputs": [
    {
     "name": "stdout",
     "output_type": "stream",
     "text": [
      "Epoch 1/5\n",
      "25000/25000 [==============================] - 40s 2ms/step - loss: 0.4396 - acc: 0.7938\n",
      "Epoch 2/5\n",
      "25000/25000 [==============================] - 40s 2ms/step - loss: 0.2835 - acc: 0.8845\n",
      "Epoch 3/5\n",
      "25000/25000 [==============================] - 39s 2ms/step - loss: 0.2487 - acc: 0.9015\n",
      "Epoch 4/5\n",
      "25000/25000 [==============================] - 38s 2ms/step - loss: 0.2299 - acc: 0.9110\n",
      "Epoch 5/5\n",
      "25000/25000 [==============================] - 40s 2ms/step - loss: 0.2147 - acc: 0.9196\n"
     ]
    },
    {
     "data": {
      "text/plain": [
       "<keras.callbacks.History at 0x2a44a541b38>"
      ]
     },
     "execution_count": 47,
     "metadata": {},
     "output_type": "execute_result"
    }
   ],
   "source": [
    "model.fit(x_train, y_train,batch_size=32,epochs=5)"
   ]
  },
  {
   "cell_type": "code",
   "execution_count": 48,
   "metadata": {},
   "outputs": [
    {
     "name": "stdout",
     "output_type": "stream",
     "text": [
      "25000/25000 [==============================] - 8s 314us/step\n"
     ]
    }
   ],
   "source": [
    "score = model.evaluate(x_test, y_test)"
   ]
  },
  {
   "cell_type": "code",
   "execution_count": 49,
   "metadata": {},
   "outputs": [
    {
     "name": "stdout",
     "output_type": "stream",
     "text": [
      "測試資料的 loss = 0.4169336189270019\n",
      "測試資料正確率 = 81.452%\n"
     ]
    }
   ],
   "source": [
    "print(f'測試資料的 loss = {score[0]}')\n",
    "print(f'測試資料正確率 = {score[1]*100}%')"
   ]
  },
  {
   "cell_type": "markdown",
   "metadata": {},
   "source": [
    "#### 這邊只修改了文字壓縮的維度、LSTM神經元個數以及優化器採用keras推薦適合RNN的RMSProp\n",
    "\n",
    "#### 測試資料表現不如訓練資料，表示有overfitting的狀況產生，以下加入dropout層和earlystop方法來避免overfitting"
   ]
  },
  {
   "cell_type": "markdown",
   "metadata": {},
   "source": [
    "### 先單純增加dropout層"
   ]
  },
  {
   "cell_type": "code",
   "execution_count": 50,
   "metadata": {},
   "outputs": [],
   "source": [
    "N = 10 # 文字要壓到 N 維\n",
    "K = 50 # LSTM 有 K 個神經元\n",
    "\n",
    "model1 = Sequential()\n",
    "model1.add(Embedding(10000, N))\n",
    "model1.add(Dropout(0.2))#當中的rate代表丟棄的數據比例，以0~1來表示\n",
    "model1.add(LSTM(K))\n",
    "model1.add(Dropout(0.2))\n",
    "model1.add(Dense(1, activation='sigmoid'))"
   ]
  },
  {
   "cell_type": "code",
   "execution_count": 51,
   "metadata": {},
   "outputs": [],
   "source": [
    "model1.compile(loss='binary_crossentropy',\n",
    "              optimizer='adam',metrics=['accuracy'])"
   ]
  },
  {
   "cell_type": "code",
   "execution_count": 52,
   "metadata": {},
   "outputs": [
    {
     "name": "stdout",
     "output_type": "stream",
     "text": [
      "Train on 25000 samples, validate on 25000 samples\n",
      "Epoch 1/5\n",
      "25000/25000 [==============================] - 50s 2ms/step - loss: 0.4425 - acc: 0.7786 - val_loss: 0.3231 - val_acc: 0.8640\n",
      "Epoch 2/5\n",
      "25000/25000 [==============================] - 47s 2ms/step - loss: 0.2639 - acc: 0.8962 - val_loss: 0.3221 - val_acc: 0.8661\n",
      "Epoch 3/5\n",
      "25000/25000 [==============================] - 50s 2ms/step - loss: 0.2162 - acc: 0.9186 - val_loss: 0.3486 - val_acc: 0.8624\n",
      "Epoch 4/5\n",
      "25000/25000 [==============================] - 51s 2ms/step - loss: 0.1884 - acc: 0.9306 - val_loss: 0.3673 - val_acc: 0.8565\n",
      "Epoch 5/5\n",
      "25000/25000 [==============================] - 49s 2ms/step - loss: 0.1684 - acc: 0.9384 - val_loss: 0.4341 - val_acc: 0.8430\n"
     ]
    },
    {
     "data": {
      "text/plain": [
       "<keras.callbacks.History at 0x2a451091be0>"
      ]
     },
     "execution_count": 52,
     "metadata": {},
     "output_type": "execute_result"
    }
   ],
   "source": [
    "model1.fit(x_train, y_train,batch_size=32,epochs=5,validation_data=(x_test, y_test))"
   ]
  },
  {
   "cell_type": "code",
   "execution_count": 53,
   "metadata": {},
   "outputs": [
    {
     "name": "stdout",
     "output_type": "stream",
     "text": [
      "25000/25000 [==============================] - 7s 288us/step\n",
      "測試資料的 loss = 0.43407998836040496\n",
      "測試資料正確率 = 84.304%\n"
     ]
    }
   ],
   "source": [
    "score = model1.evaluate(x_test, y_test)\n",
    "print(f'測試資料的 loss = {score[0]}')\n",
    "print(f'測試資料正確率 = {score[1]*100}%')"
   ]
  },
  {
   "cell_type": "markdown",
   "metadata": {},
   "source": [
    "### 沒有改善過適的問題，試試看earlystop吧"
   ]
  },
  {
   "cell_type": "code",
   "execution_count": 54,
   "metadata": {},
   "outputs": [
    {
     "name": "stdout",
     "output_type": "stream",
     "text": [
      "Train on 25000 samples, validate on 25000 samples\n",
      "Epoch 1/10\n",
      "25000/25000 [==============================] - 51s 2ms/step - loss: 0.4445 - acc: 0.7804 - val_loss: 0.3232 - val_acc: 0.8617\n",
      "Epoch 2/10\n",
      "25000/25000 [==============================] - 49s 2ms/step - loss: 0.2707 - acc: 0.8940 - val_loss: 0.3132 - val_acc: 0.8636\n",
      "Epoch 3/10\n",
      "25000/25000 [==============================] - 48s 2ms/step - loss: 0.2215 - acc: 0.9154 - val_loss: 0.3230 - val_acc: 0.8635\n"
     ]
    },
    {
     "data": {
      "text/plain": [
       "<keras.callbacks.History at 0x2a453ca7c18>"
      ]
     },
     "execution_count": 54,
     "metadata": {},
     "output_type": "execute_result"
    }
   ],
   "source": [
    "N = 10 # 文字要壓到 N 維\n",
    "K = 50 # LSTM 有 K 個神經元\n",
    "\n",
    "model2 = Sequential()\n",
    "model2.add(Embedding(10000, N))\n",
    "model2.add(Dropout(0.2))#當中的rate代表丟棄的數據比例，以0~1來表示\n",
    "model2.add(LSTM(K))\n",
    "model2.add(Dropout(0.2))\n",
    "model2.add(Dense(1, activation='sigmoid'))\n",
    "model2.compile(loss='binary_crossentropy',\n",
    "              optimizer='adam',metrics=['accuracy'])\n",
    "EarlyStop = keras.callbacks.EarlyStopping(monitor='val_loss',mode='auto')\n",
    "model2.fit(x_train,y_train,batch_size =32,epochs = 10,validation_data = (x_test, y_test),callbacks=[EarlyStop])"
   ]
  },
  {
   "cell_type": "code",
   "execution_count": 55,
   "metadata": {},
   "outputs": [
    {
     "name": "stdout",
     "output_type": "stream",
     "text": [
      "25000/25000 [==============================] - 7s 290us/step\n",
      "測試資料的 loss = 0.32298372346401216\n",
      "測試資料正確率 = 86.35199999999999%\n"
     ]
    }
   ],
   "source": [
    "score = model2.evaluate(x_test, y_test)\n",
    "print(f'測試資料的 loss = {score[0]}')\n",
    "print(f'測試資料正確率 = {score[1]*100}%')"
   ]
  },
  {
   "cell_type": "code",
   "execution_count": 56,
   "metadata": {},
   "outputs": [
    {
     "name": "stdout",
     "output_type": "stream",
     "text": [
      "Train on 25000 samples, validate on 25000 samples\n",
      "Epoch 1/5\n",
      "25000/25000 [==============================] - 52s 2ms/step - loss: 0.4568 - acc: 0.7857 - val_loss: 0.3289 - val_acc: 0.8625\n",
      "Epoch 2/5\n",
      "25000/25000 [==============================] - 49s 2ms/step - loss: 0.2986 - acc: 0.8774 - val_loss: 0.3207 - val_acc: 0.8688\n",
      "Epoch 3/5\n",
      "25000/25000 [==============================] - 49s 2ms/step - loss: 0.2672 - acc: 0.8957 - val_loss: 0.2980 - val_acc: 0.8729\n",
      "Epoch 4/5\n",
      "25000/25000 [==============================] - 49s 2ms/step - loss: 0.2485 - acc: 0.9042 - val_loss: 0.3285 - val_acc: 0.8639\n"
     ]
    },
    {
     "data": {
      "text/plain": [
       "<keras.callbacks.History at 0x2a43c2aee10>"
      ]
     },
     "execution_count": 56,
     "metadata": {},
     "output_type": "execute_result"
    }
   ],
   "source": [
    "N = 10 # 文字要壓到 N 維\n",
    "K = 50 # LSTM 有 K 個神經元\n",
    "\n",
    "model3 = Sequential()\n",
    "model3.add(Embedding(10000, N))\n",
    "model3.add(Dropout(0.3))#當中的rate代表丟棄的數據比例，以0~1來表示\n",
    "model3.add(LSTM(K))\n",
    "model3.add(Dropout(0.3))\n",
    "model3.add(Dense(1, activation='sigmoid'))\n",
    "model3.compile(loss='binary_crossentropy',optimizer='RMSProp',metrics=['accuracy'])\n",
    "earlystop = keras.callbacks.EarlyStopping(monitor='val_loss',mode='auto')\n",
    "model3.fit(x_train,y_train,batch_size =32,epochs = 5,validation_data = (x_test, y_test),callbacks=[earlystop])"
   ]
  },
  {
   "cell_type": "code",
   "execution_count": 57,
   "metadata": {},
   "outputs": [
    {
     "name": "stdout",
     "output_type": "stream",
     "text": [
      "25000/25000 [==============================] - 8s 307us/step\n",
      "測試資料的 loss = 0.32846082658290865\n",
      "測試資料正確率 = 86.388%\n"
     ]
    }
   ],
   "source": [
    "score = model3.evaluate(x_test, y_test)\n",
    "print(f'測試資料的 loss = {score[0]}')\n",
    "print(f'測試資料正確率 = {score[1]*100}%')"
   ]
  },
  {
   "cell_type": "markdown",
   "metadata": {},
   "source": [
    "### 這邊結合一開始使用的RMSProp，dropout層以及earlystop的方法，雖然防止了overfitting的發生，但讓測試資料的正確率降低了"
   ]
  }
 ],
 "metadata": {
  "kernelspec": {
   "display_name": "Python 3",
   "language": "python",
   "name": "python3"
  },
  "language_info": {
   "codemirror_mode": {
    "name": "ipython",
    "version": 3
   },
   "file_extension": ".py",
   "mimetype": "text/x-python",
   "name": "python",
   "nbconvert_exporter": "python",
   "pygments_lexer": "ipython3",
   "version": "3.6.7"
  }
 },
 "nbformat": 4,
 "nbformat_minor": 2
}
